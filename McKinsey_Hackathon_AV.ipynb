{
 "cells": [
  {
   "cell_type": "code",
   "execution_count": 1,
   "metadata": {},
   "outputs": [],
   "source": [
    "import warnings\n",
    "warnings.filterwarnings('ignore')"
   ]
  },
  {
   "cell_type": "code",
   "execution_count": 2,
   "metadata": {},
   "outputs": [
    {
     "name": "stderr",
     "output_type": "stream",
     "text": [
      "/Users/anantagarwal/anaconda3/lib/python3.6/site-packages/sklearn/cross_validation.py:41: DeprecationWarning: This module was deprecated in version 0.18 in favor of the model_selection module into which all the refactored classes and functions are moved. Also note that the interface of the new CV iterators are different from that of this module. This module will be removed in 0.20.\n",
      "  \"This module will be removed in 0.20.\", DeprecationWarning)\n",
      "/Users/anantagarwal/anaconda3/lib/python3.6/site-packages/sklearn/grid_search.py:42: DeprecationWarning: This module was deprecated in version 0.18 in favor of the model_selection module into which all the refactored classes and functions are moved. This module will be removed in 0.20.\n",
      "  DeprecationWarning)\n"
     ]
    }
   ],
   "source": [
    "import numpy as np\n",
    "import pandas as pd\n",
    "import math\n",
    "from IPython.display import display\n",
    "from sklearn.preprocessing import LabelEncoder, OneHotEncoder, Imputer\n",
    "from sklearn.cross_validation import cross_val_score, train_test_split, KFold, StratifiedKFold\n",
    "from sklearn.metrics import accuracy_score, roc_auc_score\n",
    "from sklearn.grid_search import GridSearchCV\n",
    "from sklearn.externals import joblib\n",
    "import scipy as sp\n",
    "from scipy.optimize import *\n",
    "\n",
    "import matplotlib.pyplot as plt\n",
    "%matplotlib inline\n",
    "from matplotlib.pylab import rcParams\n",
    "rcParams['figure.figsize'] = 12, 4"
   ]
  },
  {
   "cell_type": "code",
   "execution_count": 4,
   "metadata": {},
   "outputs": [],
   "source": [
    "import xgboost as xgb\n",
    "from xgboost.sklearn import XGBClassifier\n",
    "from sklearn.ensemble import GradientBoostingClassifier"
   ]
  },
  {
   "cell_type": "code",
   "execution_count": 5,
   "metadata": {},
   "outputs": [],
   "source": [
    "import tensorflow as tf\n",
    "from tensorflow.python.framework import ops\n",
    "from tensorflow.python.ops import metrics"
   ]
  },
  {
   "cell_type": "code",
   "execution_count": 6,
   "metadata": {},
   "outputs": [],
   "source": [
    "train = pd.read_csv('train_ZoGVYWq.csv')\n",
    "test = pd.read_csv('test_66516Ee.csv')"
   ]
  },
  {
   "cell_type": "markdown",
   "metadata": {},
   "source": [
    "### Data preprocessing"
   ]
  },
  {
   "cell_type": "code",
   "execution_count": 7,
   "metadata": {},
   "outputs": [
    {
     "data": {
      "text/html": [
       "<div>\n",
       "<style scoped>\n",
       "    .dataframe tbody tr th:only-of-type {\n",
       "        vertical-align: middle;\n",
       "    }\n",
       "\n",
       "    .dataframe tbody tr th {\n",
       "        vertical-align: top;\n",
       "    }\n",
       "\n",
       "    .dataframe thead th {\n",
       "        text-align: right;\n",
       "    }\n",
       "</style>\n",
       "<table border=\"1\" class=\"dataframe\">\n",
       "  <thead>\n",
       "    <tr style=\"text-align: right;\">\n",
       "      <th></th>\n",
       "      <th>id</th>\n",
       "      <th>perc_premium_paid_by_cash_credit</th>\n",
       "      <th>age_in_days</th>\n",
       "      <th>Income</th>\n",
       "      <th>Count_3-6_months_late</th>\n",
       "      <th>Count_6-12_months_late</th>\n",
       "      <th>Count_more_than_12_months_late</th>\n",
       "      <th>application_underwriting_score</th>\n",
       "      <th>no_of_premiums_paid</th>\n",
       "      <th>sourcing_channel</th>\n",
       "      <th>residence_area_type</th>\n",
       "      <th>premium</th>\n",
       "      <th>renewal</th>\n",
       "    </tr>\n",
       "  </thead>\n",
       "  <tbody>\n",
       "    <tr>\n",
       "      <th>0</th>\n",
       "      <td>110936</td>\n",
       "      <td>0.429</td>\n",
       "      <td>12058</td>\n",
       "      <td>355060</td>\n",
       "      <td>0.0</td>\n",
       "      <td>0.0</td>\n",
       "      <td>0.0</td>\n",
       "      <td>99.02</td>\n",
       "      <td>13</td>\n",
       "      <td>C</td>\n",
       "      <td>Urban</td>\n",
       "      <td>3300</td>\n",
       "      <td>1</td>\n",
       "    </tr>\n",
       "    <tr>\n",
       "      <th>1</th>\n",
       "      <td>41492</td>\n",
       "      <td>0.010</td>\n",
       "      <td>21546</td>\n",
       "      <td>315150</td>\n",
       "      <td>0.0</td>\n",
       "      <td>0.0</td>\n",
       "      <td>0.0</td>\n",
       "      <td>99.89</td>\n",
       "      <td>21</td>\n",
       "      <td>A</td>\n",
       "      <td>Urban</td>\n",
       "      <td>18000</td>\n",
       "      <td>1</td>\n",
       "    </tr>\n",
       "    <tr>\n",
       "      <th>2</th>\n",
       "      <td>31300</td>\n",
       "      <td>0.917</td>\n",
       "      <td>17531</td>\n",
       "      <td>84140</td>\n",
       "      <td>2.0</td>\n",
       "      <td>3.0</td>\n",
       "      <td>1.0</td>\n",
       "      <td>98.69</td>\n",
       "      <td>7</td>\n",
       "      <td>C</td>\n",
       "      <td>Rural</td>\n",
       "      <td>3300</td>\n",
       "      <td>0</td>\n",
       "    </tr>\n",
       "    <tr>\n",
       "      <th>3</th>\n",
       "      <td>19415</td>\n",
       "      <td>0.049</td>\n",
       "      <td>15341</td>\n",
       "      <td>250510</td>\n",
       "      <td>0.0</td>\n",
       "      <td>0.0</td>\n",
       "      <td>0.0</td>\n",
       "      <td>99.57</td>\n",
       "      <td>9</td>\n",
       "      <td>A</td>\n",
       "      <td>Urban</td>\n",
       "      <td>9600</td>\n",
       "      <td>1</td>\n",
       "    </tr>\n",
       "    <tr>\n",
       "      <th>4</th>\n",
       "      <td>99379</td>\n",
       "      <td>0.052</td>\n",
       "      <td>31400</td>\n",
       "      <td>198680</td>\n",
       "      <td>0.0</td>\n",
       "      <td>0.0</td>\n",
       "      <td>0.0</td>\n",
       "      <td>99.87</td>\n",
       "      <td>12</td>\n",
       "      <td>B</td>\n",
       "      <td>Urban</td>\n",
       "      <td>9600</td>\n",
       "      <td>1</td>\n",
       "    </tr>\n",
       "  </tbody>\n",
       "</table>\n",
       "</div>"
      ],
      "text/plain": [
       "       id  perc_premium_paid_by_cash_credit  age_in_days  Income  \\\n",
       "0  110936                             0.429        12058  355060   \n",
       "1   41492                             0.010        21546  315150   \n",
       "2   31300                             0.917        17531   84140   \n",
       "3   19415                             0.049        15341  250510   \n",
       "4   99379                             0.052        31400  198680   \n",
       "\n",
       "   Count_3-6_months_late  Count_6-12_months_late  \\\n",
       "0                    0.0                     0.0   \n",
       "1                    0.0                     0.0   \n",
       "2                    2.0                     3.0   \n",
       "3                    0.0                     0.0   \n",
       "4                    0.0                     0.0   \n",
       "\n",
       "   Count_more_than_12_months_late  application_underwriting_score  \\\n",
       "0                             0.0                           99.02   \n",
       "1                             0.0                           99.89   \n",
       "2                             1.0                           98.69   \n",
       "3                             0.0                           99.57   \n",
       "4                             0.0                           99.87   \n",
       "\n",
       "   no_of_premiums_paid sourcing_channel residence_area_type  premium  renewal  \n",
       "0                   13                C               Urban     3300        1  \n",
       "1                   21                A               Urban    18000        1  \n",
       "2                    7                C               Rural     3300        0  \n",
       "3                    9                A               Urban     9600        1  \n",
       "4                   12                B               Urban     9600        1  "
      ]
     },
     "metadata": {},
     "output_type": "display_data"
    },
    {
     "data": {
      "text/html": [
       "<div>\n",
       "<style scoped>\n",
       "    .dataframe tbody tr th:only-of-type {\n",
       "        vertical-align: middle;\n",
       "    }\n",
       "\n",
       "    .dataframe tbody tr th {\n",
       "        vertical-align: top;\n",
       "    }\n",
       "\n",
       "    .dataframe thead th {\n",
       "        text-align: right;\n",
       "    }\n",
       "</style>\n",
       "<table border=\"1\" class=\"dataframe\">\n",
       "  <thead>\n",
       "    <tr style=\"text-align: right;\">\n",
       "      <th></th>\n",
       "      <th>id</th>\n",
       "      <th>perc_premium_paid_by_cash_credit</th>\n",
       "      <th>age_in_days</th>\n",
       "      <th>Income</th>\n",
       "      <th>Count_3-6_months_late</th>\n",
       "      <th>Count_6-12_months_late</th>\n",
       "      <th>Count_more_than_12_months_late</th>\n",
       "      <th>application_underwriting_score</th>\n",
       "      <th>no_of_premiums_paid</th>\n",
       "      <th>sourcing_channel</th>\n",
       "      <th>residence_area_type</th>\n",
       "      <th>premium</th>\n",
       "    </tr>\n",
       "  </thead>\n",
       "  <tbody>\n",
       "    <tr>\n",
       "      <th>0</th>\n",
       "      <td>649</td>\n",
       "      <td>0.001</td>\n",
       "      <td>27384</td>\n",
       "      <td>51150</td>\n",
       "      <td>0.0</td>\n",
       "      <td>0.0</td>\n",
       "      <td>0.0</td>\n",
       "      <td>99.89</td>\n",
       "      <td>7</td>\n",
       "      <td>A</td>\n",
       "      <td>Rural</td>\n",
       "      <td>3300</td>\n",
       "    </tr>\n",
       "    <tr>\n",
       "      <th>1</th>\n",
       "      <td>81136</td>\n",
       "      <td>0.124</td>\n",
       "      <td>23735</td>\n",
       "      <td>285140</td>\n",
       "      <td>0.0</td>\n",
       "      <td>0.0</td>\n",
       "      <td>0.0</td>\n",
       "      <td>98.93</td>\n",
       "      <td>19</td>\n",
       "      <td>A</td>\n",
       "      <td>Urban</td>\n",
       "      <td>11700</td>\n",
       "    </tr>\n",
       "    <tr>\n",
       "      <th>2</th>\n",
       "      <td>70762</td>\n",
       "      <td>1.000</td>\n",
       "      <td>17170</td>\n",
       "      <td>186030</td>\n",
       "      <td>0.0</td>\n",
       "      <td>0.0</td>\n",
       "      <td>0.0</td>\n",
       "      <td>NaN</td>\n",
       "      <td>2</td>\n",
       "      <td>B</td>\n",
       "      <td>Urban</td>\n",
       "      <td>11700</td>\n",
       "    </tr>\n",
       "    <tr>\n",
       "      <th>3</th>\n",
       "      <td>53935</td>\n",
       "      <td>0.198</td>\n",
       "      <td>16068</td>\n",
       "      <td>123540</td>\n",
       "      <td>0.0</td>\n",
       "      <td>0.0</td>\n",
       "      <td>0.0</td>\n",
       "      <td>99.00</td>\n",
       "      <td>11</td>\n",
       "      <td>B</td>\n",
       "      <td>Rural</td>\n",
       "      <td>5400</td>\n",
       "    </tr>\n",
       "    <tr>\n",
       "      <th>4</th>\n",
       "      <td>15476</td>\n",
       "      <td>0.041</td>\n",
       "      <td>10591</td>\n",
       "      <td>200020</td>\n",
       "      <td>1.0</td>\n",
       "      <td>0.0</td>\n",
       "      <td>0.0</td>\n",
       "      <td>99.17</td>\n",
       "      <td>14</td>\n",
       "      <td>A</td>\n",
       "      <td>Rural</td>\n",
       "      <td>9600</td>\n",
       "    </tr>\n",
       "  </tbody>\n",
       "</table>\n",
       "</div>"
      ],
      "text/plain": [
       "      id  perc_premium_paid_by_cash_credit  age_in_days  Income  \\\n",
       "0    649                             0.001        27384   51150   \n",
       "1  81136                             0.124        23735  285140   \n",
       "2  70762                             1.000        17170  186030   \n",
       "3  53935                             0.198        16068  123540   \n",
       "4  15476                             0.041        10591  200020   \n",
       "\n",
       "   Count_3-6_months_late  Count_6-12_months_late  \\\n",
       "0                    0.0                     0.0   \n",
       "1                    0.0                     0.0   \n",
       "2                    0.0                     0.0   \n",
       "3                    0.0                     0.0   \n",
       "4                    1.0                     0.0   \n",
       "\n",
       "   Count_more_than_12_months_late  application_underwriting_score  \\\n",
       "0                             0.0                           99.89   \n",
       "1                             0.0                           98.93   \n",
       "2                             0.0                             NaN   \n",
       "3                             0.0                           99.00   \n",
       "4                             0.0                           99.17   \n",
       "\n",
       "   no_of_premiums_paid sourcing_channel residence_area_type  premium  \n",
       "0                    7                A               Rural     3300  \n",
       "1                   19                A               Urban    11700  \n",
       "2                    2                B               Urban    11700  \n",
       "3                   11                B               Rural     5400  \n",
       "4                   14                A               Rural     9600  "
      ]
     },
     "metadata": {},
     "output_type": "display_data"
    }
   ],
   "source": [
    "display(train.head(), test.head())"
   ]
  },
  {
   "cell_type": "code",
   "execution_count": 8,
   "metadata": {},
   "outputs": [
    {
     "data": {
      "text/plain": [
       "(79853, 13)"
      ]
     },
     "metadata": {},
     "output_type": "display_data"
    },
    {
     "data": {
      "text/plain": [
       "(34224, 12)"
      ]
     },
     "metadata": {},
     "output_type": "display_data"
    }
   ],
   "source": [
    "display(train.shape, test.shape)"
   ]
  },
  {
   "cell_type": "code",
   "execution_count": 9,
   "metadata": {},
   "outputs": [
    {
     "data": {
      "text/plain": [
       "id                                    int64\n",
       "perc_premium_paid_by_cash_credit    float64\n",
       "age_in_days                           int64\n",
       "Income                                int64\n",
       "Count_3-6_months_late               float64\n",
       "Count_6-12_months_late              float64\n",
       "Count_more_than_12_months_late      float64\n",
       "application_underwriting_score      float64\n",
       "no_of_premiums_paid                   int64\n",
       "sourcing_channel                     object\n",
       "residence_area_type                  object\n",
       "premium                               int64\n",
       "renewal                               int64\n",
       "dtype: object"
      ]
     },
     "metadata": {},
     "output_type": "display_data"
    },
    {
     "data": {
      "text/plain": [
       "id                                    int64\n",
       "perc_premium_paid_by_cash_credit    float64\n",
       "age_in_days                           int64\n",
       "Income                                int64\n",
       "Count_3-6_months_late               float64\n",
       "Count_6-12_months_late              float64\n",
       "Count_more_than_12_months_late      float64\n",
       "application_underwriting_score      float64\n",
       "no_of_premiums_paid                   int64\n",
       "sourcing_channel                     object\n",
       "residence_area_type                  object\n",
       "premium                               int64\n",
       "dtype: object"
      ]
     },
     "metadata": {},
     "output_type": "display_data"
    }
   ],
   "source": [
    "display(train.dtypes, test.dtypes)"
   ]
  },
  {
   "cell_type": "markdown",
   "metadata": {},
   "source": [
    "#### One-hot encoding"
   ]
  },
  {
   "cell_type": "code",
   "execution_count": 10,
   "metadata": {},
   "outputs": [
    {
     "data": {
      "text/plain": [
       "array([2, 0, 2, ..., 0, 0, 0])"
      ]
     },
     "metadata": {},
     "output_type": "display_data"
    },
    {
     "data": {
      "text/plain": [
       "array([1, 1, 0, ..., 0, 0, 1])"
      ]
     },
     "metadata": {},
     "output_type": "display_data"
    },
    {
     "data": {
      "text/plain": [
       "array([0, 0, 1, ..., 1, 0, 0])"
      ]
     },
     "metadata": {},
     "output_type": "display_data"
    },
    {
     "data": {
      "text/plain": [
       "array([0, 1, 1, ..., 0, 1, 1])"
      ]
     },
     "metadata": {},
     "output_type": "display_data"
    }
   ],
   "source": [
    "#integer encode\n",
    "label_encoder = LabelEncoder()\n",
    "#For training data\n",
    "sourcing_encoded_train = label_encoder.fit_transform(train.sourcing_channel)\n",
    "res_encoded_train = label_encoder.fit_transform(train.residence_area_type)\n",
    "#For test data\n",
    "sourcing_encoded_test = label_encoder.fit_transform(test.sourcing_channel)\n",
    "res_encoded_test = label_encoder.fit_transform(test.residence_area_type)\n",
    "#Display\n",
    "display(sourcing_encoded_train, res_encoded_train, sourcing_encoded_test, res_encoded_test)"
   ]
  },
  {
   "cell_type": "code",
   "execution_count": 11,
   "metadata": {},
   "outputs": [],
   "source": [
    "#binary encode\n",
    "onehot_encoder = OneHotEncoder(sparse=False)\n",
    "#reshaping\n",
    "sourcing_encoded_train = sourcing_encoded_train.reshape(len(sourcing_encoded_train), 1)\n",
    "res_encoded_train = res_encoded_train.reshape(len(res_encoded_train), 1)\n",
    "sourcing_encoded_test = sourcing_encoded_test.reshape(len(sourcing_encoded_test), 1)\n",
    "res_encoded_test = res_encoded_test.reshape(len(res_encoded_test), 1)\n",
    "#one-hot encoding\n",
    "sourcing_onehot_train = onehot_encoder.fit_transform(sourcing_encoded_train)\n",
    "res_onehot_train = onehot_encoder.fit_transform(res_encoded_train)\n",
    "sourcing_onehot_test = onehot_encoder.fit_transform(sourcing_encoded_test)\n",
    "res_onehot_test = onehot_encoder.fit_transform(res_encoded_test)"
   ]
  },
  {
   "cell_type": "code",
   "execution_count": 12,
   "metadata": {},
   "outputs": [
    {
     "data": {
      "text/plain": [
       "((79853, 5), (79853, 2), (34224, 5), (34224, 2))"
      ]
     },
     "execution_count": 12,
     "metadata": {},
     "output_type": "execute_result"
    }
   ],
   "source": [
    "#Display shapes\n",
    "sourcing_onehot_train.shape, res_onehot_train.shape, sourcing_onehot_test.shape, res_onehot_test.shape"
   ]
  },
  {
   "cell_type": "code",
   "execution_count": 13,
   "metadata": {},
   "outputs": [],
   "source": [
    "#Convert to pandas dataframe\n",
    "sourcing_df_train = pd.DataFrame(sourcing_onehot_train, columns = ['sourcing' + str(i) for i in range(sourcing_onehot_train.shape[1])])\n",
    "res_df_train = pd.DataFrame(res_onehot_train, columns = ['res' + str(i) for i in range(res_onehot_train.shape[1])])\n",
    "sourcing_df_test = pd.DataFrame(sourcing_onehot_test, columns = ['sourcing' + str(i) for i in range(sourcing_onehot_test.shape[1])])\n",
    "res_df_test = pd.DataFrame(res_onehot_test, columns = ['res' + str(i) for i in range(res_onehot_test.shape[1])])"
   ]
  },
  {
   "cell_type": "code",
   "execution_count": 14,
   "metadata": {},
   "outputs": [
    {
     "data": {
      "text/html": [
       "<div>\n",
       "<style scoped>\n",
       "    .dataframe tbody tr th:only-of-type {\n",
       "        vertical-align: middle;\n",
       "    }\n",
       "\n",
       "    .dataframe tbody tr th {\n",
       "        vertical-align: top;\n",
       "    }\n",
       "\n",
       "    .dataframe thead th {\n",
       "        text-align: right;\n",
       "    }\n",
       "</style>\n",
       "<table border=\"1\" class=\"dataframe\">\n",
       "  <thead>\n",
       "    <tr style=\"text-align: right;\">\n",
       "      <th></th>\n",
       "      <th>sourcing0</th>\n",
       "      <th>sourcing1</th>\n",
       "      <th>sourcing2</th>\n",
       "      <th>sourcing3</th>\n",
       "      <th>sourcing4</th>\n",
       "    </tr>\n",
       "  </thead>\n",
       "  <tbody>\n",
       "    <tr>\n",
       "      <th>0</th>\n",
       "      <td>0.0</td>\n",
       "      <td>0.0</td>\n",
       "      <td>1.0</td>\n",
       "      <td>0.0</td>\n",
       "      <td>0.0</td>\n",
       "    </tr>\n",
       "    <tr>\n",
       "      <th>1</th>\n",
       "      <td>1.0</td>\n",
       "      <td>0.0</td>\n",
       "      <td>0.0</td>\n",
       "      <td>0.0</td>\n",
       "      <td>0.0</td>\n",
       "    </tr>\n",
       "    <tr>\n",
       "      <th>2</th>\n",
       "      <td>0.0</td>\n",
       "      <td>0.0</td>\n",
       "      <td>1.0</td>\n",
       "      <td>0.0</td>\n",
       "      <td>0.0</td>\n",
       "    </tr>\n",
       "    <tr>\n",
       "      <th>3</th>\n",
       "      <td>1.0</td>\n",
       "      <td>0.0</td>\n",
       "      <td>0.0</td>\n",
       "      <td>0.0</td>\n",
       "      <td>0.0</td>\n",
       "    </tr>\n",
       "    <tr>\n",
       "      <th>4</th>\n",
       "      <td>0.0</td>\n",
       "      <td>1.0</td>\n",
       "      <td>0.0</td>\n",
       "      <td>0.0</td>\n",
       "      <td>0.0</td>\n",
       "    </tr>\n",
       "  </tbody>\n",
       "</table>\n",
       "</div>"
      ],
      "text/plain": [
       "   sourcing0  sourcing1  sourcing2  sourcing3  sourcing4\n",
       "0        0.0        0.0        1.0        0.0        0.0\n",
       "1        1.0        0.0        0.0        0.0        0.0\n",
       "2        0.0        0.0        1.0        0.0        0.0\n",
       "3        1.0        0.0        0.0        0.0        0.0\n",
       "4        0.0        1.0        0.0        0.0        0.0"
      ]
     },
     "metadata": {},
     "output_type": "display_data"
    },
    {
     "data": {
      "text/html": [
       "<div>\n",
       "<style scoped>\n",
       "    .dataframe tbody tr th:only-of-type {\n",
       "        vertical-align: middle;\n",
       "    }\n",
       "\n",
       "    .dataframe tbody tr th {\n",
       "        vertical-align: top;\n",
       "    }\n",
       "\n",
       "    .dataframe thead th {\n",
       "        text-align: right;\n",
       "    }\n",
       "</style>\n",
       "<table border=\"1\" class=\"dataframe\">\n",
       "  <thead>\n",
       "    <tr style=\"text-align: right;\">\n",
       "      <th></th>\n",
       "      <th>res0</th>\n",
       "      <th>res1</th>\n",
       "    </tr>\n",
       "  </thead>\n",
       "  <tbody>\n",
       "    <tr>\n",
       "      <th>0</th>\n",
       "      <td>0.0</td>\n",
       "      <td>1.0</td>\n",
       "    </tr>\n",
       "    <tr>\n",
       "      <th>1</th>\n",
       "      <td>0.0</td>\n",
       "      <td>1.0</td>\n",
       "    </tr>\n",
       "    <tr>\n",
       "      <th>2</th>\n",
       "      <td>1.0</td>\n",
       "      <td>0.0</td>\n",
       "    </tr>\n",
       "    <tr>\n",
       "      <th>3</th>\n",
       "      <td>0.0</td>\n",
       "      <td>1.0</td>\n",
       "    </tr>\n",
       "    <tr>\n",
       "      <th>4</th>\n",
       "      <td>0.0</td>\n",
       "      <td>1.0</td>\n",
       "    </tr>\n",
       "  </tbody>\n",
       "</table>\n",
       "</div>"
      ],
      "text/plain": [
       "   res0  res1\n",
       "0   0.0   1.0\n",
       "1   0.0   1.0\n",
       "2   1.0   0.0\n",
       "3   0.0   1.0\n",
       "4   0.0   1.0"
      ]
     },
     "metadata": {},
     "output_type": "display_data"
    },
    {
     "data": {
      "text/html": [
       "<div>\n",
       "<style scoped>\n",
       "    .dataframe tbody tr th:only-of-type {\n",
       "        vertical-align: middle;\n",
       "    }\n",
       "\n",
       "    .dataframe tbody tr th {\n",
       "        vertical-align: top;\n",
       "    }\n",
       "\n",
       "    .dataframe thead th {\n",
       "        text-align: right;\n",
       "    }\n",
       "</style>\n",
       "<table border=\"1\" class=\"dataframe\">\n",
       "  <thead>\n",
       "    <tr style=\"text-align: right;\">\n",
       "      <th></th>\n",
       "      <th>sourcing0</th>\n",
       "      <th>sourcing1</th>\n",
       "      <th>sourcing2</th>\n",
       "      <th>sourcing3</th>\n",
       "      <th>sourcing4</th>\n",
       "    </tr>\n",
       "  </thead>\n",
       "  <tbody>\n",
       "    <tr>\n",
       "      <th>0</th>\n",
       "      <td>1.0</td>\n",
       "      <td>0.0</td>\n",
       "      <td>0.0</td>\n",
       "      <td>0.0</td>\n",
       "      <td>0.0</td>\n",
       "    </tr>\n",
       "    <tr>\n",
       "      <th>1</th>\n",
       "      <td>1.0</td>\n",
       "      <td>0.0</td>\n",
       "      <td>0.0</td>\n",
       "      <td>0.0</td>\n",
       "      <td>0.0</td>\n",
       "    </tr>\n",
       "    <tr>\n",
       "      <th>2</th>\n",
       "      <td>0.0</td>\n",
       "      <td>1.0</td>\n",
       "      <td>0.0</td>\n",
       "      <td>0.0</td>\n",
       "      <td>0.0</td>\n",
       "    </tr>\n",
       "    <tr>\n",
       "      <th>3</th>\n",
       "      <td>0.0</td>\n",
       "      <td>1.0</td>\n",
       "      <td>0.0</td>\n",
       "      <td>0.0</td>\n",
       "      <td>0.0</td>\n",
       "    </tr>\n",
       "    <tr>\n",
       "      <th>4</th>\n",
       "      <td>1.0</td>\n",
       "      <td>0.0</td>\n",
       "      <td>0.0</td>\n",
       "      <td>0.0</td>\n",
       "      <td>0.0</td>\n",
       "    </tr>\n",
       "  </tbody>\n",
       "</table>\n",
       "</div>"
      ],
      "text/plain": [
       "   sourcing0  sourcing1  sourcing2  sourcing3  sourcing4\n",
       "0        1.0        0.0        0.0        0.0        0.0\n",
       "1        1.0        0.0        0.0        0.0        0.0\n",
       "2        0.0        1.0        0.0        0.0        0.0\n",
       "3        0.0        1.0        0.0        0.0        0.0\n",
       "4        1.0        0.0        0.0        0.0        0.0"
      ]
     },
     "metadata": {},
     "output_type": "display_data"
    },
    {
     "data": {
      "text/html": [
       "<div>\n",
       "<style scoped>\n",
       "    .dataframe tbody tr th:only-of-type {\n",
       "        vertical-align: middle;\n",
       "    }\n",
       "\n",
       "    .dataframe tbody tr th {\n",
       "        vertical-align: top;\n",
       "    }\n",
       "\n",
       "    .dataframe thead th {\n",
       "        text-align: right;\n",
       "    }\n",
       "</style>\n",
       "<table border=\"1\" class=\"dataframe\">\n",
       "  <thead>\n",
       "    <tr style=\"text-align: right;\">\n",
       "      <th></th>\n",
       "      <th>res0</th>\n",
       "      <th>res1</th>\n",
       "    </tr>\n",
       "  </thead>\n",
       "  <tbody>\n",
       "    <tr>\n",
       "      <th>0</th>\n",
       "      <td>1.0</td>\n",
       "      <td>0.0</td>\n",
       "    </tr>\n",
       "    <tr>\n",
       "      <th>1</th>\n",
       "      <td>0.0</td>\n",
       "      <td>1.0</td>\n",
       "    </tr>\n",
       "    <tr>\n",
       "      <th>2</th>\n",
       "      <td>0.0</td>\n",
       "      <td>1.0</td>\n",
       "    </tr>\n",
       "    <tr>\n",
       "      <th>3</th>\n",
       "      <td>1.0</td>\n",
       "      <td>0.0</td>\n",
       "    </tr>\n",
       "    <tr>\n",
       "      <th>4</th>\n",
       "      <td>1.0</td>\n",
       "      <td>0.0</td>\n",
       "    </tr>\n",
       "  </tbody>\n",
       "</table>\n",
       "</div>"
      ],
      "text/plain": [
       "   res0  res1\n",
       "0   1.0   0.0\n",
       "1   0.0   1.0\n",
       "2   0.0   1.0\n",
       "3   1.0   0.0\n",
       "4   1.0   0.0"
      ]
     },
     "metadata": {},
     "output_type": "display_data"
    }
   ],
   "source": [
    "display (sourcing_df_train.head(), res_df_train.head(), sourcing_df_test.head(), res_df_test.head())"
   ]
  },
  {
   "cell_type": "code",
   "execution_count": 15,
   "metadata": {},
   "outputs": [],
   "source": [
    "#Concatenating one-hot encodings and dropping categorical columns\n",
    "train_concat = pd.concat([train, sourcing_df_train, res_df_train], axis=1)\n",
    "test_concat = pd.concat([test, sourcing_df_test, res_df_test], axis=1)\n",
    "train_concat = train_concat.drop(columns = ['sourcing_channel', 'residence_area_type'])\n",
    "test_concat = test_concat.drop(columns = ['sourcing_channel', 'residence_area_type'])"
   ]
  },
  {
   "cell_type": "markdown",
   "metadata": {},
   "source": [
    "#### Missing values"
   ]
  },
  {
   "cell_type": "code",
   "execution_count": 16,
   "metadata": {},
   "outputs": [
    {
     "data": {
      "text/plain": [
       "Count_3-6_months_late               97\n",
       "Count_6-12_months_late              97\n",
       "Count_more_than_12_months_late      97\n",
       "application_underwriting_score    2974\n",
       "dtype: int64"
      ]
     },
     "metadata": {},
     "output_type": "display_data"
    },
    {
     "data": {
      "text/plain": [
       "Count_3-6_months_late               31\n",
       "Count_6-12_months_late              31\n",
       "Count_more_than_12_months_late      31\n",
       "application_underwriting_score    1323\n",
       "dtype: int64"
      ]
     },
     "metadata": {},
     "output_type": "display_data"
    }
   ],
   "source": [
    "display(np.sum(train_concat.isna())[np.sum(train_concat.isna()) != 0], \\\n",
    "        np.sum(test.isna())[np.sum(test.isna()) != 0])"
   ]
  },
  {
   "cell_type": "code",
   "execution_count": 17,
   "metadata": {},
   "outputs": [],
   "source": [
    "#Imputing mean\n",
    "mean_aus = np.mean(train_concat.application_underwriting_score)\n",
    "train_concat.application_underwriting_score = train_concat.application_underwriting_score.fillna(mean_aus)\n",
    "test_concat.application_underwriting_score = test_concat.application_underwriting_score.fillna(mean_aus)"
   ]
  },
  {
   "cell_type": "code",
   "execution_count": 18,
   "metadata": {},
   "outputs": [],
   "source": [
    "#Imputing median\n",
    "imp_med = Imputer(strategy='median')\n",
    "train_columns = train_concat.columns\n",
    "test_columns = test_concat.columns\n",
    "train_prepoc = imp_med.fit_transform(train_concat)\n",
    "test_prepoc = imp_med.fit_transform(test_concat)"
   ]
  },
  {
   "cell_type": "code",
   "execution_count": 19,
   "metadata": {},
   "outputs": [],
   "source": [
    "train_prepoc = pd.DataFrame(train_prepoc, columns=train_columns)\n",
    "test_prepoc = pd.DataFrame(test_prepoc, columns=test_columns)"
   ]
  },
  {
   "cell_type": "code",
   "execution_count": 20,
   "metadata": {},
   "outputs": [
    {
     "data": {
      "text/html": [
       "<div>\n",
       "<style scoped>\n",
       "    .dataframe tbody tr th:only-of-type {\n",
       "        vertical-align: middle;\n",
       "    }\n",
       "\n",
       "    .dataframe tbody tr th {\n",
       "        vertical-align: top;\n",
       "    }\n",
       "\n",
       "    .dataframe thead th {\n",
       "        text-align: right;\n",
       "    }\n",
       "</style>\n",
       "<table border=\"1\" class=\"dataframe\">\n",
       "  <thead>\n",
       "    <tr style=\"text-align: right;\">\n",
       "      <th></th>\n",
       "      <th>id</th>\n",
       "      <th>perc_premium_paid_by_cash_credit</th>\n",
       "      <th>age_in_days</th>\n",
       "      <th>Income</th>\n",
       "      <th>Count_3-6_months_late</th>\n",
       "      <th>Count_6-12_months_late</th>\n",
       "      <th>Count_more_than_12_months_late</th>\n",
       "      <th>application_underwriting_score</th>\n",
       "      <th>no_of_premiums_paid</th>\n",
       "      <th>premium</th>\n",
       "      <th>renewal</th>\n",
       "      <th>sourcing0</th>\n",
       "      <th>sourcing1</th>\n",
       "      <th>sourcing2</th>\n",
       "      <th>sourcing3</th>\n",
       "      <th>sourcing4</th>\n",
       "      <th>res0</th>\n",
       "      <th>res1</th>\n",
       "    </tr>\n",
       "  </thead>\n",
       "  <tbody>\n",
       "    <tr>\n",
       "      <th>0</th>\n",
       "      <td>110936.0</td>\n",
       "      <td>0.429</td>\n",
       "      <td>12058.0</td>\n",
       "      <td>355060.0</td>\n",
       "      <td>0.0</td>\n",
       "      <td>0.0</td>\n",
       "      <td>0.0</td>\n",
       "      <td>99.02</td>\n",
       "      <td>13.0</td>\n",
       "      <td>3300.0</td>\n",
       "      <td>1.0</td>\n",
       "      <td>0.0</td>\n",
       "      <td>0.0</td>\n",
       "      <td>1.0</td>\n",
       "      <td>0.0</td>\n",
       "      <td>0.0</td>\n",
       "      <td>0.0</td>\n",
       "      <td>1.0</td>\n",
       "    </tr>\n",
       "    <tr>\n",
       "      <th>1</th>\n",
       "      <td>41492.0</td>\n",
       "      <td>0.010</td>\n",
       "      <td>21546.0</td>\n",
       "      <td>315150.0</td>\n",
       "      <td>0.0</td>\n",
       "      <td>0.0</td>\n",
       "      <td>0.0</td>\n",
       "      <td>99.89</td>\n",
       "      <td>21.0</td>\n",
       "      <td>18000.0</td>\n",
       "      <td>1.0</td>\n",
       "      <td>1.0</td>\n",
       "      <td>0.0</td>\n",
       "      <td>0.0</td>\n",
       "      <td>0.0</td>\n",
       "      <td>0.0</td>\n",
       "      <td>0.0</td>\n",
       "      <td>1.0</td>\n",
       "    </tr>\n",
       "    <tr>\n",
       "      <th>2</th>\n",
       "      <td>31300.0</td>\n",
       "      <td>0.917</td>\n",
       "      <td>17531.0</td>\n",
       "      <td>84140.0</td>\n",
       "      <td>2.0</td>\n",
       "      <td>3.0</td>\n",
       "      <td>1.0</td>\n",
       "      <td>98.69</td>\n",
       "      <td>7.0</td>\n",
       "      <td>3300.0</td>\n",
       "      <td>0.0</td>\n",
       "      <td>0.0</td>\n",
       "      <td>0.0</td>\n",
       "      <td>1.0</td>\n",
       "      <td>0.0</td>\n",
       "      <td>0.0</td>\n",
       "      <td>1.0</td>\n",
       "      <td>0.0</td>\n",
       "    </tr>\n",
       "    <tr>\n",
       "      <th>3</th>\n",
       "      <td>19415.0</td>\n",
       "      <td>0.049</td>\n",
       "      <td>15341.0</td>\n",
       "      <td>250510.0</td>\n",
       "      <td>0.0</td>\n",
       "      <td>0.0</td>\n",
       "      <td>0.0</td>\n",
       "      <td>99.57</td>\n",
       "      <td>9.0</td>\n",
       "      <td>9600.0</td>\n",
       "      <td>1.0</td>\n",
       "      <td>1.0</td>\n",
       "      <td>0.0</td>\n",
       "      <td>0.0</td>\n",
       "      <td>0.0</td>\n",
       "      <td>0.0</td>\n",
       "      <td>0.0</td>\n",
       "      <td>1.0</td>\n",
       "    </tr>\n",
       "    <tr>\n",
       "      <th>4</th>\n",
       "      <td>99379.0</td>\n",
       "      <td>0.052</td>\n",
       "      <td>31400.0</td>\n",
       "      <td>198680.0</td>\n",
       "      <td>0.0</td>\n",
       "      <td>0.0</td>\n",
       "      <td>0.0</td>\n",
       "      <td>99.87</td>\n",
       "      <td>12.0</td>\n",
       "      <td>9600.0</td>\n",
       "      <td>1.0</td>\n",
       "      <td>0.0</td>\n",
       "      <td>1.0</td>\n",
       "      <td>0.0</td>\n",
       "      <td>0.0</td>\n",
       "      <td>0.0</td>\n",
       "      <td>0.0</td>\n",
       "      <td>1.0</td>\n",
       "    </tr>\n",
       "  </tbody>\n",
       "</table>\n",
       "</div>"
      ],
      "text/plain": [
       "         id  perc_premium_paid_by_cash_credit  age_in_days    Income  \\\n",
       "0  110936.0                             0.429      12058.0  355060.0   \n",
       "1   41492.0                             0.010      21546.0  315150.0   \n",
       "2   31300.0                             0.917      17531.0   84140.0   \n",
       "3   19415.0                             0.049      15341.0  250510.0   \n",
       "4   99379.0                             0.052      31400.0  198680.0   \n",
       "\n",
       "   Count_3-6_months_late  Count_6-12_months_late  \\\n",
       "0                    0.0                     0.0   \n",
       "1                    0.0                     0.0   \n",
       "2                    2.0                     3.0   \n",
       "3                    0.0                     0.0   \n",
       "4                    0.0                     0.0   \n",
       "\n",
       "   Count_more_than_12_months_late  application_underwriting_score  \\\n",
       "0                             0.0                           99.02   \n",
       "1                             0.0                           99.89   \n",
       "2                             1.0                           98.69   \n",
       "3                             0.0                           99.57   \n",
       "4                             0.0                           99.87   \n",
       "\n",
       "   no_of_premiums_paid  premium  renewal  sourcing0  sourcing1  sourcing2  \\\n",
       "0                 13.0   3300.0      1.0        0.0        0.0        1.0   \n",
       "1                 21.0  18000.0      1.0        1.0        0.0        0.0   \n",
       "2                  7.0   3300.0      0.0        0.0        0.0        1.0   \n",
       "3                  9.0   9600.0      1.0        1.0        0.0        0.0   \n",
       "4                 12.0   9600.0      1.0        0.0        1.0        0.0   \n",
       "\n",
       "   sourcing3  sourcing4  res0  res1  \n",
       "0        0.0        0.0   0.0   1.0  \n",
       "1        0.0        0.0   0.0   1.0  \n",
       "2        0.0        0.0   1.0   0.0  \n",
       "3        0.0        0.0   0.0   1.0  \n",
       "4        0.0        0.0   0.0   1.0  "
      ]
     },
     "metadata": {},
     "output_type": "display_data"
    },
    {
     "data": {
      "text/html": [
       "<div>\n",
       "<style scoped>\n",
       "    .dataframe tbody tr th:only-of-type {\n",
       "        vertical-align: middle;\n",
       "    }\n",
       "\n",
       "    .dataframe tbody tr th {\n",
       "        vertical-align: top;\n",
       "    }\n",
       "\n",
       "    .dataframe thead th {\n",
       "        text-align: right;\n",
       "    }\n",
       "</style>\n",
       "<table border=\"1\" class=\"dataframe\">\n",
       "  <thead>\n",
       "    <tr style=\"text-align: right;\">\n",
       "      <th></th>\n",
       "      <th>id</th>\n",
       "      <th>perc_premium_paid_by_cash_credit</th>\n",
       "      <th>age_in_days</th>\n",
       "      <th>Income</th>\n",
       "      <th>Count_3-6_months_late</th>\n",
       "      <th>Count_6-12_months_late</th>\n",
       "      <th>Count_more_than_12_months_late</th>\n",
       "      <th>application_underwriting_score</th>\n",
       "      <th>no_of_premiums_paid</th>\n",
       "      <th>premium</th>\n",
       "      <th>sourcing0</th>\n",
       "      <th>sourcing1</th>\n",
       "      <th>sourcing2</th>\n",
       "      <th>sourcing3</th>\n",
       "      <th>sourcing4</th>\n",
       "      <th>res0</th>\n",
       "      <th>res1</th>\n",
       "    </tr>\n",
       "  </thead>\n",
       "  <tbody>\n",
       "    <tr>\n",
       "      <th>0</th>\n",
       "      <td>649.0</td>\n",
       "      <td>0.001</td>\n",
       "      <td>27384.0</td>\n",
       "      <td>51150.0</td>\n",
       "      <td>0.0</td>\n",
       "      <td>0.0</td>\n",
       "      <td>0.0</td>\n",
       "      <td>99.890000</td>\n",
       "      <td>7.0</td>\n",
       "      <td>3300.0</td>\n",
       "      <td>1.0</td>\n",
       "      <td>0.0</td>\n",
       "      <td>0.0</td>\n",
       "      <td>0.0</td>\n",
       "      <td>0.0</td>\n",
       "      <td>1.0</td>\n",
       "      <td>0.0</td>\n",
       "    </tr>\n",
       "    <tr>\n",
       "      <th>1</th>\n",
       "      <td>81136.0</td>\n",
       "      <td>0.124</td>\n",
       "      <td>23735.0</td>\n",
       "      <td>285140.0</td>\n",
       "      <td>0.0</td>\n",
       "      <td>0.0</td>\n",
       "      <td>0.0</td>\n",
       "      <td>98.930000</td>\n",
       "      <td>19.0</td>\n",
       "      <td>11700.0</td>\n",
       "      <td>1.0</td>\n",
       "      <td>0.0</td>\n",
       "      <td>0.0</td>\n",
       "      <td>0.0</td>\n",
       "      <td>0.0</td>\n",
       "      <td>0.0</td>\n",
       "      <td>1.0</td>\n",
       "    </tr>\n",
       "    <tr>\n",
       "      <th>2</th>\n",
       "      <td>70762.0</td>\n",
       "      <td>1.000</td>\n",
       "      <td>17170.0</td>\n",
       "      <td>186030.0</td>\n",
       "      <td>0.0</td>\n",
       "      <td>0.0</td>\n",
       "      <td>0.0</td>\n",
       "      <td>99.067291</td>\n",
       "      <td>2.0</td>\n",
       "      <td>11700.0</td>\n",
       "      <td>0.0</td>\n",
       "      <td>1.0</td>\n",
       "      <td>0.0</td>\n",
       "      <td>0.0</td>\n",
       "      <td>0.0</td>\n",
       "      <td>0.0</td>\n",
       "      <td>1.0</td>\n",
       "    </tr>\n",
       "    <tr>\n",
       "      <th>3</th>\n",
       "      <td>53935.0</td>\n",
       "      <td>0.198</td>\n",
       "      <td>16068.0</td>\n",
       "      <td>123540.0</td>\n",
       "      <td>0.0</td>\n",
       "      <td>0.0</td>\n",
       "      <td>0.0</td>\n",
       "      <td>99.000000</td>\n",
       "      <td>11.0</td>\n",
       "      <td>5400.0</td>\n",
       "      <td>0.0</td>\n",
       "      <td>1.0</td>\n",
       "      <td>0.0</td>\n",
       "      <td>0.0</td>\n",
       "      <td>0.0</td>\n",
       "      <td>1.0</td>\n",
       "      <td>0.0</td>\n",
       "    </tr>\n",
       "    <tr>\n",
       "      <th>4</th>\n",
       "      <td>15476.0</td>\n",
       "      <td>0.041</td>\n",
       "      <td>10591.0</td>\n",
       "      <td>200020.0</td>\n",
       "      <td>1.0</td>\n",
       "      <td>0.0</td>\n",
       "      <td>0.0</td>\n",
       "      <td>99.170000</td>\n",
       "      <td>14.0</td>\n",
       "      <td>9600.0</td>\n",
       "      <td>1.0</td>\n",
       "      <td>0.0</td>\n",
       "      <td>0.0</td>\n",
       "      <td>0.0</td>\n",
       "      <td>0.0</td>\n",
       "      <td>1.0</td>\n",
       "      <td>0.0</td>\n",
       "    </tr>\n",
       "  </tbody>\n",
       "</table>\n",
       "</div>"
      ],
      "text/plain": [
       "        id  perc_premium_paid_by_cash_credit  age_in_days    Income  \\\n",
       "0    649.0                             0.001      27384.0   51150.0   \n",
       "1  81136.0                             0.124      23735.0  285140.0   \n",
       "2  70762.0                             1.000      17170.0  186030.0   \n",
       "3  53935.0                             0.198      16068.0  123540.0   \n",
       "4  15476.0                             0.041      10591.0  200020.0   \n",
       "\n",
       "   Count_3-6_months_late  Count_6-12_months_late  \\\n",
       "0                    0.0                     0.0   \n",
       "1                    0.0                     0.0   \n",
       "2                    0.0                     0.0   \n",
       "3                    0.0                     0.0   \n",
       "4                    1.0                     0.0   \n",
       "\n",
       "   Count_more_than_12_months_late  application_underwriting_score  \\\n",
       "0                             0.0                       99.890000   \n",
       "1                             0.0                       98.930000   \n",
       "2                             0.0                       99.067291   \n",
       "3                             0.0                       99.000000   \n",
       "4                             0.0                       99.170000   \n",
       "\n",
       "   no_of_premiums_paid  premium  sourcing0  sourcing1  sourcing2  sourcing3  \\\n",
       "0                  7.0   3300.0        1.0        0.0        0.0        0.0   \n",
       "1                 19.0  11700.0        1.0        0.0        0.0        0.0   \n",
       "2                  2.0  11700.0        0.0        1.0        0.0        0.0   \n",
       "3                 11.0   5400.0        0.0        1.0        0.0        0.0   \n",
       "4                 14.0   9600.0        1.0        0.0        0.0        0.0   \n",
       "\n",
       "   sourcing4  res0  res1  \n",
       "0        0.0   1.0   0.0  \n",
       "1        0.0   0.0   1.0  \n",
       "2        0.0   0.0   1.0  \n",
       "3        0.0   1.0   0.0  \n",
       "4        0.0   1.0   0.0  "
      ]
     },
     "metadata": {},
     "output_type": "display_data"
    }
   ],
   "source": [
    "display(train_prepoc.head(), test_prepoc.head())"
   ]
  },
  {
   "cell_type": "code",
   "execution_count": 21,
   "metadata": {},
   "outputs": [
    {
     "data": {
      "text/plain": [
       "Series([], dtype: int64)"
      ]
     },
     "metadata": {},
     "output_type": "display_data"
    },
    {
     "data": {
      "text/plain": [
       "Series([], dtype: int64)"
      ]
     },
     "metadata": {},
     "output_type": "display_data"
    }
   ],
   "source": [
    "#Verifying for NAs\n",
    "display(np.sum(train_prepoc.isna())[np.sum(train_prepoc.isna()) != 0], \\\n",
    "        np.sum(test_prepoc.isna())[np.sum(test_prepoc.isna()) != 0])"
   ]
  },
  {
   "cell_type": "markdown",
   "metadata": {},
   "source": [
    "#### Split into training and development sets"
   ]
  },
  {
   "cell_type": "code",
   "execution_count": 22,
   "metadata": {},
   "outputs": [],
   "source": [
    "train_prepoc = train_prepoc.set_index('id')\n",
    "test_prepoc = test_prepoc.set_index('id')"
   ]
  },
  {
   "cell_type": "code",
   "execution_count": 23,
   "metadata": {},
   "outputs": [],
   "source": [
    "X = train_prepoc.loc[:, filter(lambda x: x not in ['renewal'], train_prepoc.columns)]\n",
    "y = train_prepoc.loc[:,['renewal']]\n",
    "X_test = test_prepoc"
   ]
  },
  {
   "cell_type": "code",
   "execution_count": 24,
   "metadata": {},
   "outputs": [],
   "source": [
    "seed = 1\n",
    "dev_size = 0.25\n",
    "X_train, X_dev, y_train, y_dev = train_test_split(X,y,test_size = dev_size, random_state = seed)"
   ]
  },
  {
   "cell_type": "code",
   "execution_count": 25,
   "metadata": {},
   "outputs": [
    {
     "data": {
      "text/plain": [
       "((59889, 16), (59889, 1), (19964, 16), (19964, 1), (34224, 16))"
      ]
     },
     "execution_count": 25,
     "metadata": {},
     "output_type": "execute_result"
    }
   ],
   "source": [
    "X_train.shape, y_train.shape, X_dev.shape, y_dev.shape, X_test.shape"
   ]
  },
  {
   "cell_type": "code",
   "execution_count": 26,
   "metadata": {},
   "outputs": [],
   "source": [
    "#Converting to 1D array\n",
    "y_train = y_train.squeeze()\n",
    "y_dev = y_dev.squeeze()"
   ]
  },
  {
   "cell_type": "markdown",
   "metadata": {},
   "source": [
    "### Implement XGBoost"
   ]
  },
  {
   "cell_type": "code",
   "execution_count": 30,
   "metadata": {},
   "outputs": [],
   "source": [
    "def model_fit_xg(alg, X_train, y_train, featureImportance = True, performCV = True, early_stopping_rounds=50):\n",
    "    #fit model to training data\n",
    "    alg.fit(X_train, y_train, eval_metric='auc')\n",
    "    #predict on training set\n",
    "    train_predictions = alg.predict(X_train)\n",
    "    train_predprob = alg.predict_proba(X_train)[:,1]\n",
    "    \n",
    "    print(\"Accuracy: %.4g\" % accuracy_score(y_train.values, train_predictions) )\n",
    "    print(\"AUC score (train): %f\" % roc_auc_score(y_train, train_predprob))\n",
    "    \n",
    "    if performCV:\n",
    "        #kfold = StratifiedKFold(n_splits=10, random_state=1)\n",
    "        xgb_par = alg.get_xgb_params()\n",
    "        train_xg = xgb.DMatrix(X_train.values, label=y_train.values)\n",
    "        cvresult = xgb.cv(xgb_par, train_xg, num_boost_round=alg.get_params()['n_estimators'], nfold=5,\n",
    "            metrics='auc', early_stopping_rounds=early_stopping_rounds)\n",
    "        alg.set_params(n_estimators=cvresult.shape[0])\n",
    "        \n",
    "    if featureImportance:\n",
    "        feat_imp = pd.Series(alg.get_booster().get_fscore()).sort_values(ascending=False)\n",
    "        feat_imp.plot(kind='bar', title='Feature Importances')\n",
    "        plt.ylabel('Feature Importance Score')"
   ]
  },
  {
   "cell_type": "code",
   "execution_count": 31,
   "metadata": {},
   "outputs": [
    {
     "name": "stdout",
     "output_type": "stream",
     "text": [
      "Accuracy: 0.9659\n",
      "AUC score (train): 0.976711\n"
     ]
    },
    {
     "data": {
      "image/png": "[encoded data removed]",
      "text/plain": [
       "<Figure size 432x288 with 1 Axes>"
      ]
     },
     "metadata": {},
     "output_type": "display_data"
    }
   ],
   "source": [
    "xgb1 = XGBClassifier(\n",
    " learning_rate =0.1,\n",
    " n_estimators=1000,\n",
    " max_depth=5,\n",
    " min_child_weight=1,\n",
    " gamma=0,\n",
    " subsample=0.8,\n",
    " colsample_bytree=0.8,\n",
    " objective= 'binary:logistic',\n",
    " nthread=4,\n",
    " scale_pos_weight=1,\n",
    " seed=27)\n",
    "model_fit_xg(xgb1, X_train, y_train)"
   ]
  },
  {
   "cell_type": "code",
   "execution_count": 32,
   "metadata": {},
   "outputs": [
    {
     "name": "stdout",
     "output_type": "stream",
     "text": [
      "XGBClassifier(base_score=0.5, booster='gbtree', colsample_bylevel=1,\n",
      "       colsample_bytree=0.8, gamma=0, learning_rate=0.1, max_delta_step=0,\n",
      "       max_depth=5, min_child_weight=1, missing=None, n_estimators=51,\n",
      "       n_jobs=1, nthread=4, objective='binary:logistic', random_state=0,\n",
      "       reg_alpha=0, reg_lambda=1, scale_pos_weight=1, seed=27, silent=True,\n",
      "       subsample=0.8)\n"
     ]
    }
   ],
   "source": [
    "print(xgb1)"
   ]
  },
  {
   "cell_type": "code",
   "execution_count": 98,
   "metadata": {},
   "outputs": [
    {
     "data": {
      "text/plain": [
       "([mean: 0.83882, std: 0.00250, params: {'max_depth': 3, 'min_child_weight': 1},\n",
       "  mean: 0.83900, std: 0.00247, params: {'max_depth': 3, 'min_child_weight': 3},\n",
       "  mean: 0.83895, std: 0.00254, params: {'max_depth': 3, 'min_child_weight': 5},\n",
       "  mean: 0.84054, std: 0.00332, params: {'max_depth': 5, 'min_child_weight': 1},\n",
       "  mean: 0.84096, std: 0.00347, params: {'max_depth': 5, 'min_child_weight': 3},\n",
       "  mean: 0.84042, std: 0.00315, params: {'max_depth': 5, 'min_child_weight': 5},\n",
       "  mean: 0.83723, std: 0.00309, params: {'max_depth': 7, 'min_child_weight': 1},\n",
       "  mean: 0.83790, std: 0.00320, params: {'max_depth': 7, 'min_child_weight': 3},\n",
       "  mean: 0.83813, std: 0.00325, params: {'max_depth': 7, 'min_child_weight': 5},\n",
       "  mean: 0.83220, std: 0.00237, params: {'max_depth': 9, 'min_child_weight': 1},\n",
       "  mean: 0.83409, std: 0.00332, params: {'max_depth': 9, 'min_child_weight': 3},\n",
       "  mean: 0.83501, std: 0.00257, params: {'max_depth': 9, 'min_child_weight': 5}],\n",
       " {'max_depth': 5, 'min_child_weight': 3},\n",
       " 0.8409582425018074)"
      ]
     },
     "execution_count": 98,
     "metadata": {},
     "output_type": "execute_result"
    }
   ],
   "source": [
    "param_test1 = {\n",
    " 'max_depth':range(3,10,2),\n",
    " 'min_child_weight':range(1,6,2)\n",
    "}\n",
    "gsearch1 = GridSearchCV(estimator = XGBClassifier( learning_rate =0.1, n_estimators=51, max_depth=5,\n",
    " min_child_weight=1, gamma=0, subsample=0.8, colsample_bytree=0.8,\n",
    " objective= 'binary:logistic', nthread=4, scale_pos_weight=1, seed=27), \n",
    " param_grid = param_test1, scoring='roc_auc',n_jobs=4,iid=False, cv=5)\n",
    "gsearch1.fit(X_train,y_train)\n",
    "gsearch1.grid_scores_, gsearch1.best_params_, gsearch1.best_score_"
   ]
  },
  {
   "cell_type": "code",
   "execution_count": 99,
   "metadata": {},
   "outputs": [
    {
     "data": {
      "text/plain": [
       "([mean: 0.83991, std: 0.00295, params: {'max_depth': 4, 'min_child_weight': 2},\n",
       "  mean: 0.84028, std: 0.00319, params: {'max_depth': 4, 'min_child_weight': 3},\n",
       "  mean: 0.84039, std: 0.00303, params: {'max_depth': 4, 'min_child_weight': 4},\n",
       "  mean: 0.84054, std: 0.00345, params: {'max_depth': 5, 'min_child_weight': 2},\n",
       "  mean: 0.84096, std: 0.00347, params: {'max_depth': 5, 'min_child_weight': 3},\n",
       "  mean: 0.84091, std: 0.00326, params: {'max_depth': 5, 'min_child_weight': 4},\n",
       "  mean: 0.83950, std: 0.00356, params: {'max_depth': 6, 'min_child_weight': 2},\n",
       "  mean: 0.83935, std: 0.00295, params: {'max_depth': 6, 'min_child_weight': 3},\n",
       "  mean: 0.83981, std: 0.00353, params: {'max_depth': 6, 'min_child_weight': 4}],\n",
       " {'max_depth': 5, 'min_child_weight': 3},\n",
       " 0.8409582425018074)"
      ]
     },
     "execution_count": 99,
     "metadata": {},
     "output_type": "execute_result"
    }
   ],
   "source": [
    "param_test2 = {\n",
    " 'max_depth':[4,5,6],\n",
    " 'min_child_weight':[2,3,4]\n",
    "}\n",
    "gsearch2 = GridSearchCV(estimator = XGBClassifier( learning_rate=0.1, n_estimators=51, max_depth=5,\n",
    " min_child_weight=2, gamma=0, subsample=0.8, colsample_bytree=0.8,\n",
    " objective= 'binary:logistic', nthread=4, scale_pos_weight=1,seed=27), \n",
    " param_grid = param_test2, scoring='roc_auc',n_jobs=4,iid=False, cv=5)\n",
    "gsearch2.fit(X_train,y_train)\n",
    "gsearch2.grid_scores_, gsearch2.best_params_, gsearch2.best_score_"
   ]
  },
  {
   "cell_type": "code",
   "execution_count": 104,
   "metadata": {},
   "outputs": [
    {
     "data": {
      "text/plain": [
       "([mean: 0.83783, std: 0.00369, params: {'gamma': 0.0},\n",
       "  mean: 0.83780, std: 0.00368, params: {'gamma': 0.1},\n",
       "  mean: 0.83780, std: 0.00369, params: {'gamma': 0.2},\n",
       "  mean: 0.83781, std: 0.00369, params: {'gamma': 0.3},\n",
       "  mean: 0.83779, std: 0.00370, params: {'gamma': 0.4}],\n",
       " {'gamma': 0.0},\n",
       " 0.8378263552077779)"
      ]
     },
     "execution_count": 104,
     "metadata": {},
     "output_type": "execute_result"
    }
   ],
   "source": [
    "param_test3 = {\n",
    " 'gamma':[i/10.0 for i in range(0,5)]\n",
    "}\n",
    "gsearch3 = GridSearchCV(estimator = XGBClassifier( learning_rate =0.1, n_estimators=21, max_depth=5,\n",
    " min_child_weight=3, gamma=0, subsample=0.8, colsample_bytree=0.8,\n",
    " objective= 'binary:logistic', nthread=4, scale_pos_weight=1,seed=27), \n",
    " param_grid = param_test3, scoring='roc_auc',n_jobs=4,iid=False, cv=5)\n",
    "gsearch3.fit(X_train,y_train)\n",
    "gsearch3.grid_scores_, gsearch3.best_params_, gsearch3.best_score_"
   ]
  },
  {
   "cell_type": "code",
   "execution_count": 33,
   "metadata": {},
   "outputs": [
    {
     "name": "stdout",
     "output_type": "stream",
     "text": [
      "Accuracy: 0.9618\n",
      "AUC score (train): 0.965556\n"
     ]
    },
    {
     "data": {
      "image/png": "[encoded data removed]",
      "text/plain": [
       "<Figure size 432x288 with 1 Axes>"
      ]
     },
     "metadata": {},
     "output_type": "display_data"
    }
   ],
   "source": [
    "xgb2 = XGBClassifier(\n",
    " learning_rate =0.1,\n",
    " n_estimators=1000,\n",
    " max_depth=5,\n",
    " min_child_weight=3,\n",
    " gamma=0,\n",
    " subsample=0.8,\n",
    " colsample_bytree=0.8,\n",
    " objective= 'binary:logistic',\n",
    " nthread=4,\n",
    " scale_pos_weight=1,\n",
    " seed=27)\n",
    "model_fit_xg(xgb2, X_train, y_train)"
   ]
  },
  {
   "cell_type": "code",
   "execution_count": 34,
   "metadata": {},
   "outputs": [
    {
     "name": "stdout",
     "output_type": "stream",
     "text": [
      "XGBClassifier(base_score=0.5, booster='gbtree', colsample_bylevel=1,\n",
      "       colsample_bytree=0.8, gamma=0, learning_rate=0.1, max_delta_step=0,\n",
      "       max_depth=5, min_child_weight=3, missing=None, n_estimators=66,\n",
      "       n_jobs=1, nthread=4, objective='binary:logistic', random_state=0,\n",
      "       reg_alpha=0, reg_lambda=1, scale_pos_weight=1, seed=27, silent=True,\n",
      "       subsample=0.8)\n"
     ]
    }
   ],
   "source": [
    "print(xgb2)"
   ]
  },
  {
   "cell_type": "code",
   "execution_count": 110,
   "metadata": {},
   "outputs": [
    {
     "data": {
      "text/plain": [
       "([mean: 0.83991, std: 0.00343, params: {'subsample': 0.6, 'colsample_bytree': 0.6},\n",
       "  mean: 0.83997, std: 0.00348, params: {'subsample': 0.7, 'colsample_bytree': 0.6},\n",
       "  mean: 0.84045, std: 0.00259, params: {'subsample': 0.8, 'colsample_bytree': 0.6},\n",
       "  mean: 0.83997, std: 0.00252, params: {'subsample': 0.9, 'colsample_bytree': 0.6},\n",
       "  mean: 0.83959, std: 0.00279, params: {'subsample': 0.6, 'colsample_bytree': 0.7},\n",
       "  mean: 0.84020, std: 0.00347, params: {'subsample': 0.7, 'colsample_bytree': 0.7},\n",
       "  mean: 0.84024, std: 0.00278, params: {'subsample': 0.8, 'colsample_bytree': 0.7},\n",
       "  mean: 0.84021, std: 0.00275, params: {'subsample': 0.9, 'colsample_bytree': 0.7},\n",
       "  mean: 0.84055, std: 0.00272, params: {'subsample': 0.6, 'colsample_bytree': 0.8},\n",
       "  mean: 0.84037, std: 0.00346, params: {'subsample': 0.7, 'colsample_bytree': 0.8},\n",
       "  mean: 0.84073, std: 0.00308, params: {'subsample': 0.8, 'colsample_bytree': 0.8},\n",
       "  mean: 0.84037, std: 0.00327, params: {'subsample': 0.9, 'colsample_bytree': 0.8},\n",
       "  mean: 0.84034, std: 0.00348, params: {'subsample': 0.6, 'colsample_bytree': 0.9},\n",
       "  mean: 0.83949, std: 0.00298, params: {'subsample': 0.7, 'colsample_bytree': 0.9},\n",
       "  mean: 0.84075, std: 0.00335, params: {'subsample': 0.8, 'colsample_bytree': 0.9},\n",
       "  mean: 0.84055, std: 0.00280, params: {'subsample': 0.9, 'colsample_bytree': 0.9}],\n",
       " {'colsample_bytree': 0.9, 'subsample': 0.8},\n",
       " 0.8407524536608533)"
      ]
     },
     "execution_count": 110,
     "metadata": {},
     "output_type": "execute_result"
    }
   ],
   "source": [
    "param_test4 = {\n",
    " 'subsample':[i/10.0 for i in range(6,10)],\n",
    " 'colsample_bytree':[i/10.0 for i in range(6,10)]\n",
    "}\n",
    "gsearch4 = GridSearchCV(estimator = XGBClassifier( learning_rate =0.1, n_estimators=66, max_depth=5,\n",
    " min_child_weight=3, gamma=0, subsample=0.8, colsample_bytree=0.8,\n",
    " objective= 'binary:logistic', nthread=4, scale_pos_weight=1,seed=27), \n",
    " param_grid = param_test4, scoring='roc_auc',n_jobs=4,iid=False, cv=5)\n",
    "gsearch4.fit(X_train,y_train)\n",
    "gsearch4.grid_scores_, gsearch4.best_params_, gsearch4.best_score_"
   ]
  },
  {
   "cell_type": "code",
   "execution_count": 111,
   "metadata": {},
   "outputs": [
    {
     "data": {
      "text/plain": [
       "GridSearchCV(cv=5, error_score='raise',\n",
       "       estimator=XGBClassifier(base_score=0.5, booster='gbtree', colsample_bylevel=1,\n",
       "       colsample_bytree=0.8, gamma=0, learning_rate=0.1, max_delta_step=0,\n",
       "       max_depth=5, min_child_weight=3, missing=None, n_estimators=66,\n",
       "       n_jobs=1, nthread=4, objective='binary:logistic', random_state=0,\n",
       "       reg_alpha=0, reg_lambda=1, scale_pos_weight=1, seed=27, silent=True,\n",
       "       subsample=0.8),\n",
       "       fit_params={}, iid=False, n_jobs=4,\n",
       "       param_grid={'subsample': [0.75, 0.8, 0.85], 'colsample_bytree': [0.85, 0.9, 0.95]},\n",
       "       pre_dispatch='2*n_jobs', refit=True, scoring='roc_auc', verbose=0)"
      ]
     },
     "execution_count": 111,
     "metadata": {},
     "output_type": "execute_result"
    }
   ],
   "source": [
    "param_test5 = {\n",
    " 'subsample':[i/100.0 for i in range(75,90,5)],\n",
    " 'colsample_bytree':[i/100.0 for i in range(85,100,5)]\n",
    "}\n",
    "gsearch5 = GridSearchCV(estimator = XGBClassifier( learning_rate =0.1, n_estimators=66, max_depth=5,\n",
    " min_child_weight=3, gamma=0, subsample=0.8, colsample_bytree=0.8,\n",
    " objective= 'binary:logistic', nthread=4, scale_pos_weight=1,seed=27), \n",
    " param_grid = param_test5, scoring='roc_auc',n_jobs=4,iid=False, cv=5)\n",
    "gsearch5.fit(X_train,y_train)"
   ]
  },
  {
   "cell_type": "code",
   "execution_count": 112,
   "metadata": {},
   "outputs": [
    {
     "data": {
      "text/plain": [
       "([mean: 0.84004, std: 0.00292, params: {'subsample': 0.75, 'colsample_bytree': 0.85},\n",
       "  mean: 0.84028, std: 0.00278, params: {'subsample': 0.8, 'colsample_bytree': 0.85},\n",
       "  mean: 0.84009, std: 0.00329, params: {'subsample': 0.85, 'colsample_bytree': 0.85},\n",
       "  mean: 0.84054, std: 0.00286, params: {'subsample': 0.75, 'colsample_bytree': 0.9},\n",
       "  mean: 0.84075, std: 0.00335, params: {'subsample': 0.8, 'colsample_bytree': 0.9},\n",
       "  mean: 0.84033, std: 0.00323, params: {'subsample': 0.85, 'colsample_bytree': 0.9},\n",
       "  mean: 0.84036, std: 0.00278, params: {'subsample': 0.75, 'colsample_bytree': 0.95},\n",
       "  mean: 0.84029, std: 0.00341, params: {'subsample': 0.8, 'colsample_bytree': 0.95},\n",
       "  mean: 0.84008, std: 0.00274, params: {'subsample': 0.85, 'colsample_bytree': 0.95}],\n",
       " {'colsample_bytree': 0.9, 'subsample': 0.8},\n",
       " 0.8407524536608533)"
      ]
     },
     "execution_count": 112,
     "metadata": {},
     "output_type": "execute_result"
    }
   ],
   "source": [
    "gsearch5.grid_scores_, gsearch5.best_params_, gsearch5.best_score_"
   ]
  },
  {
   "cell_type": "code",
   "execution_count": 113,
   "metadata": {},
   "outputs": [
    {
     "data": {
      "text/plain": [
       "([mean: 0.84006, std: 0.00314, params: {'reg_alpha': 1e-05, 'reg_lambda': 1e-05},\n",
       "  mean: 0.84029, std: 0.00316, params: {'reg_alpha': 1e-05, 'reg_lambda': 0.01},\n",
       "  mean: 0.84011, std: 0.00309, params: {'reg_alpha': 1e-05, 'reg_lambda': 0.1},\n",
       "  mean: 0.84075, std: 0.00335, params: {'reg_alpha': 1e-05, 'reg_lambda': 1},\n",
       "  mean: 0.84126, std: 0.00330, params: {'reg_alpha': 1e-05, 'reg_lambda': 100},\n",
       "  mean: 0.84048, std: 0.00297, params: {'reg_alpha': 0.01, 'reg_lambda': 1e-05},\n",
       "  mean: 0.84035, std: 0.00317, params: {'reg_alpha': 0.01, 'reg_lambda': 0.01},\n",
       "  mean: 0.84005, std: 0.00320, params: {'reg_alpha': 0.01, 'reg_lambda': 0.1},\n",
       "  mean: 0.84018, std: 0.00313, params: {'reg_alpha': 0.01, 'reg_lambda': 1},\n",
       "  mean: 0.84134, std: 0.00335, params: {'reg_alpha': 0.01, 'reg_lambda': 100},\n",
       "  mean: 0.84018, std: 0.00297, params: {'reg_alpha': 0.1, 'reg_lambda': 1e-05},\n",
       "  mean: 0.84005, std: 0.00339, params: {'reg_alpha': 0.1, 'reg_lambda': 0.01},\n",
       "  mean: 0.84048, std: 0.00285, params: {'reg_alpha': 0.1, 'reg_lambda': 0.1},\n",
       "  mean: 0.84063, std: 0.00305, params: {'reg_alpha': 0.1, 'reg_lambda': 1},\n",
       "  mean: 0.84096, std: 0.00350, params: {'reg_alpha': 0.1, 'reg_lambda': 100},\n",
       "  mean: 0.84134, std: 0.00254, params: {'reg_alpha': 1, 'reg_lambda': 1e-05},\n",
       "  mean: 0.84084, std: 0.00318, params: {'reg_alpha': 1, 'reg_lambda': 0.01},\n",
       "  mean: 0.84125, std: 0.00324, params: {'reg_alpha': 1, 'reg_lambda': 0.1},\n",
       "  mean: 0.84075, std: 0.00331, params: {'reg_alpha': 1, 'reg_lambda': 1},\n",
       "  mean: 0.84088, std: 0.00346, params: {'reg_alpha': 1, 'reg_lambda': 100},\n",
       "  mean: 0.83858, std: 0.00410, params: {'reg_alpha': 100, 'reg_lambda': 1e-05},\n",
       "  mean: 0.83858, std: 0.00410, params: {'reg_alpha': 100, 'reg_lambda': 0.01},\n",
       "  mean: 0.83858, std: 0.00410, params: {'reg_alpha': 100, 'reg_lambda': 0.1},\n",
       "  mean: 0.83848, std: 0.00419, params: {'reg_alpha': 100, 'reg_lambda': 1},\n",
       "  mean: 0.83811, std: 0.00419, params: {'reg_alpha': 100, 'reg_lambda': 100}],\n",
       " {'reg_alpha': 0.01, 'reg_lambda': 100},\n",
       " 0.841337428798391)"
      ]
     },
     "execution_count": 113,
     "metadata": {},
     "output_type": "execute_result"
    }
   ],
   "source": [
    "param_test6 = {\n",
    " 'reg_alpha':[1e-5, 1e-2, 0.1, 1, 100],\n",
    "    'reg_lambda':[1e-5, 1e-2, 0.1, 1, 100]\n",
    "}\n",
    "gsearch6 = GridSearchCV(estimator = XGBClassifier( learning_rate =0.1, n_estimators=66, max_depth=5,\n",
    " min_child_weight=3, gamma=0, subsample=0.8, colsample_bytree=0.9,\n",
    " objective= 'binary:logistic', nthread=4, scale_pos_weight=1,seed=27), \n",
    " param_grid = param_test6, scoring='roc_auc',n_jobs=4,iid=False, cv=5)\n",
    "gsearch6.fit(X_train,y_train)\n",
    "gsearch6.grid_scores_, gsearch6.best_params_, gsearch6.best_score_"
   ]
  },
  {
   "cell_type": "code",
   "execution_count": 118,
   "metadata": {},
   "outputs": [
    {
     "data": {
      "text/plain": [
       "([mean: 0.84075, std: 0.00335, params: {'reg_alpha': 1e-05, 'reg_lambda': 1},\n",
       "  mean: 0.84073, std: 0.00294, params: {'reg_alpha': 1e-05, 'reg_lambda': 3},\n",
       "  mean: 0.84151, std: 0.00314, params: {'reg_alpha': 1e-05, 'reg_lambda': 5},\n",
       "  mean: 0.84138, std: 0.00308, params: {'reg_alpha': 1e-05, 'reg_lambda': 7},\n",
       "  mean: 0.84141, std: 0.00296, params: {'reg_alpha': 1e-05, 'reg_lambda': 10},\n",
       "  mean: 0.84065, std: 0.00349, params: {'reg_alpha': 0.001, 'reg_lambda': 1},\n",
       "  mean: 0.84103, std: 0.00324, params: {'reg_alpha': 0.001, 'reg_lambda': 3},\n",
       "  mean: 0.84137, std: 0.00315, params: {'reg_alpha': 0.001, 'reg_lambda': 5},\n",
       "  mean: 0.84150, std: 0.00295, params: {'reg_alpha': 0.001, 'reg_lambda': 7},\n",
       "  mean: 0.84126, std: 0.00285, params: {'reg_alpha': 0.001, 'reg_lambda': 10},\n",
       "  mean: 0.84061, std: 0.00353, params: {'reg_alpha': 0.005, 'reg_lambda': 1},\n",
       "  mean: 0.84128, std: 0.00301, params: {'reg_alpha': 0.005, 'reg_lambda': 3},\n",
       "  mean: 0.84149, std: 0.00308, params: {'reg_alpha': 0.005, 'reg_lambda': 5},\n",
       "  mean: 0.84162, std: 0.00284, params: {'reg_alpha': 0.005, 'reg_lambda': 7},\n",
       "  mean: 0.84123, std: 0.00291, params: {'reg_alpha': 0.005, 'reg_lambda': 10},\n",
       "  mean: 0.84018, std: 0.00313, params: {'reg_alpha': 0.01, 'reg_lambda': 1},\n",
       "  mean: 0.84112, std: 0.00317, params: {'reg_alpha': 0.01, 'reg_lambda': 3},\n",
       "  mean: 0.84156, std: 0.00297, params: {'reg_alpha': 0.01, 'reg_lambda': 5},\n",
       "  mean: 0.84144, std: 0.00280, params: {'reg_alpha': 0.01, 'reg_lambda': 7},\n",
       "  mean: 0.84126, std: 0.00304, params: {'reg_alpha': 0.01, 'reg_lambda': 10},\n",
       "  mean: 0.84077, std: 0.00313, params: {'reg_alpha': 0.05, 'reg_lambda': 1},\n",
       "  mean: 0.84093, std: 0.00293, params: {'reg_alpha': 0.05, 'reg_lambda': 3},\n",
       "  mean: 0.84131, std: 0.00265, params: {'reg_alpha': 0.05, 'reg_lambda': 5},\n",
       "  mean: 0.84147, std: 0.00310, params: {'reg_alpha': 0.05, 'reg_lambda': 7},\n",
       "  mean: 0.84135, std: 0.00281, params: {'reg_alpha': 0.05, 'reg_lambda': 10}],\n",
       " {'reg_alpha': 0.005, 'reg_lambda': 7},\n",
       " 0.8416214002934655)"
      ]
     },
     "execution_count": 118,
     "metadata": {},
     "output_type": "execute_result"
    }
   ],
   "source": [
    "param_test7 = {\n",
    " 'reg_alpha':[1e-5, 0.001, 0.005, 0.01, 0.05],\n",
    "    'reg_lambda':[1,3,5,7,10]\n",
    "}\n",
    "gsearch7 = GridSearchCV(estimator = XGBClassifier( learning_rate =0.1, n_estimators=66, max_depth=5,\n",
    " min_child_weight=3, gamma=0, subsample=0.8, colsample_bytree=0.9,\n",
    " objective= 'binary:logistic', nthread=4, scale_pos_weight=1,seed=27), \n",
    " param_grid = param_test7, scoring='roc_auc',n_jobs=4,iid=False, cv=5)\n",
    "gsearch7.fit(X_train,y_train)\n",
    "gsearch7.grid_scores_, gsearch7.best_params_, gsearch7.best_score_"
   ]
  },
  {
   "cell_type": "code",
   "execution_count": 35,
   "metadata": {},
   "outputs": [
    {
     "name": "stdout",
     "output_type": "stream",
     "text": [
      "Accuracy: 0.9596\n",
      "AUC score (train): 0.958083\n"
     ]
    },
    {
     "data": {
      "image/png": "[encoded data removed]",
      "text/plain": [
       "<Figure size 432x288 with 1 Axes>"
      ]
     },
     "metadata": {},
     "output_type": "display_data"
    }
   ],
   "source": [
    "xgb3 = XGBClassifier(\n",
    " learning_rate =0.1,\n",
    " n_estimators=1000,\n",
    " max_depth=5,\n",
    " min_child_weight=3,\n",
    " gamma=0,\n",
    " subsample=0.8,\n",
    " colsample_bytree=0.9,\n",
    " reg_alpha=0.005,\n",
    "    reg_lambda=7,\n",
    " objective= 'binary:logistic',\n",
    " nthread=4,\n",
    " scale_pos_weight=1,\n",
    " seed=27)\n",
    "model_fit_xg(xgb3, X_train, y_train)"
   ]
  },
  {
   "cell_type": "code",
   "execution_count": 36,
   "metadata": {},
   "outputs": [
    {
     "name": "stdout",
     "output_type": "stream",
     "text": [
      "XGBClassifier(base_score=0.5, booster='gbtree', colsample_bylevel=1,\n",
      "       colsample_bytree=0.9, gamma=0, learning_rate=0.1, max_delta_step=0,\n",
      "       max_depth=5, min_child_weight=3, missing=None, n_estimators=51,\n",
      "       n_jobs=1, nthread=4, objective='binary:logistic', random_state=0,\n",
      "       reg_alpha=0.005, reg_lambda=7, scale_pos_weight=1, seed=27,\n",
      "       silent=True, subsample=0.8)\n"
     ]
    }
   ],
   "source": [
    "print(xgb3)"
   ]
  },
  {
   "cell_type": "code",
   "execution_count": null,
   "metadata": {},
   "outputs": [],
   "source": [
    "xgb4 = XGBClassifier(\n",
    " learning_rate =0.01,\n",
    " n_estimators=15000,\n",
    " max_depth=5,\n",
    " min_child_weight=3,\n",
    " gamma=0,\n",
    " subsample=0.8,\n",
    " colsample_bytree=0.9,\n",
    " reg_alpha=0.005,\n",
    "    reg_lambda=7,\n",
    " objective= 'binary:logistic',\n",
    " nthread=4,\n",
    " scale_pos_weight=1,\n",
    " seed=27)\n",
    "model_fit_xg(xgb4, X_train, y_train)"
   ]
  },
  {
   "cell_type": "code",
   "execution_count": null,
   "metadata": {},
   "outputs": [],
   "source": [
    "print(xgb4)"
   ]
  },
  {
   "cell_type": "code",
   "execution_count": 125,
   "metadata": {},
   "outputs": [
    {
     "name": "stdout",
     "output_type": "stream",
     "text": [
      "Accuracy: 0.9357\n",
      "AUC score (dev): 0.817382\n"
     ]
    }
   ],
   "source": [
    "#evaluating model on development set\n",
    "dev_predictions = xgb3.predict(X_dev)\n",
    "dev_predprob = xgb3.predict_proba(X_dev)[:,1]\n",
    "#evaluate predictions\n",
    "print(\"Accuracy: %.4g\" % accuracy_score(y_dev.values, dev_predictions) )\n",
    "print(\"AUC score (dev): %f\" % roc_auc_score(y_dev, dev_predprob))"
   ]
  },
  {
   "cell_type": "code",
   "execution_count": 126,
   "metadata": {},
   "outputs": [
    {
     "name": "stdout",
     "output_type": "stream",
     "text": [
      "Accuracy: 0.9365\n",
      "AUC score (dev): 0.832577\n"
     ]
    }
   ],
   "source": [
    "#evaluating model on development set\n",
    "dev_predictions = xgb4.predict(X_dev)\n",
    "dev_predprob = xgb4.predict_proba(X_dev)[:,1]\n",
    "#evaluate predictions\n",
    "print(\"Accuracy: %.4g\" % accuracy_score(y_dev.values, dev_predictions) )\n",
    "print(\"AUC score (dev): %f\" % roc_auc_score(y_dev, dev_predprob))"
   ]
  },
  {
   "cell_type": "markdown",
   "metadata": {},
   "source": [
    "### Implement Gradient Boosting"
   ]
  },
  {
   "cell_type": "code",
   "execution_count": 84,
   "metadata": {
    "collapsed": true
   },
   "outputs": [],
   "source": [
    "def model_fit_gb(alg, X_train, y_train, featureImportance = True, performCV = True):\n",
    "    #fit model to training data\n",
    "    alg.fit(X_train, y_train)\n",
    "    #predict on training set\n",
    "    train_predictions = alg.predict(X_train)\n",
    "    train_predprob = alg.predict_proba(X_train)[:,1]\n",
    "    \n",
    "    print(\"Accuracy: %.4g\" % accuracy_score(y_train.values, train_predictions) )\n",
    "    print(\"AUC score (train): %f\" % roc_auc_score(y_train, train_predprob))\n",
    "    \n",
    "    if performCV:\n",
    "        #kfold = StratifiedKFold(n_splits=10, random_state=1)\n",
    "        results = cross_val_score(alg, X_train, y_train, cv=5, scoring='roc_auc')\n",
    "        print(\"CV score : Mean - %.7g | Std - %.7g | Min - %.7g | Max - %.7g\" % \\\n",
    "              (np.mean(results),np.std(results),np.min(results),np.max(results)))\n",
    "    \n",
    "    if featureImportance:\n",
    "        feat_imp = pd.Series(alg.feature_importances_, X_train.columns).sort_values(ascending=False)\n",
    "        feat_imp.plot(kind='bar', title='Feature Importances')\n",
    "        plt.ylabel('Feature Importance Score')"
   ]
  },
  {
   "cell_type": "code",
   "execution_count": 27,
   "metadata": {
    "collapsed": true
   },
   "outputs": [
    {
     "ename": "KeyboardInterrupt",
     "evalue": "",
     "output_type": "error",
     "traceback": [
      "\u001b[0;31m---------------------------------------------------------------------------\u001b[0m",
      "\u001b[0;31mKeyboardInterrupt\u001b[0m                         Traceback (most recent call last)",
      "\u001b[0;32m<ipython-input-27-faa67fc65695>\u001b[0m in \u001b[0;36m<module>\u001b[0;34m()\u001b[0m\n\u001b[1;32m      1\u001b[0m \u001b[0mGB_model\u001b[0m \u001b[0;34m=\u001b[0m \u001b[0mGradientBoostingClassifier\u001b[0m\u001b[0;34m(\u001b[0m\u001b[0;34m)\u001b[0m\u001b[0;34m\u001b[0m\u001b[0m\n\u001b[0;32m----> 2\u001b[0;31m \u001b[0mmodel_fit\u001b[0m\u001b[0;34m(\u001b[0m\u001b[0mGB_model\u001b[0m\u001b[0;34m,\u001b[0m \u001b[0mX_train\u001b[0m\u001b[0;34m,\u001b[0m \u001b[0my_train\u001b[0m\u001b[0;34m)\u001b[0m\u001b[0;34m\u001b[0m\u001b[0m\n\u001b[0m",
      "\u001b[0;32m<ipython-input-26-d215592dfc78>\u001b[0m in \u001b[0;36mmodel_fit\u001b[0;34m(alg, X_train, y_train, featureImportance, performCV)\u001b[0m\n\u001b[1;32m      3\u001b[0m     \u001b[0malg\u001b[0m\u001b[0;34m.\u001b[0m\u001b[0mfit\u001b[0m\u001b[0;34m(\u001b[0m\u001b[0mX_train\u001b[0m\u001b[0;34m,\u001b[0m \u001b[0my_train\u001b[0m\u001b[0;34m)\u001b[0m\u001b[0;34m\u001b[0m\u001b[0m\n\u001b[1;32m      4\u001b[0m     \u001b[0;31m#predict on training set\u001b[0m\u001b[0;34m\u001b[0m\u001b[0;34m\u001b[0m\u001b[0m\n\u001b[0;32m----> 5\u001b[0;31m     \u001b[0mtrain_predictions\u001b[0m \u001b[0;34m=\u001b[0m \u001b[0malg\u001b[0m\u001b[0;34m.\u001b[0m\u001b[0mpredict\u001b[0m\u001b[0;34m(\u001b[0m\u001b[0mX_train\u001b[0m\u001b[0;34m)\u001b[0m\u001b[0;34m\u001b[0m\u001b[0m\n\u001b[0m\u001b[1;32m      6\u001b[0m     \u001b[0mtrain_predprob\u001b[0m \u001b[0;34m=\u001b[0m \u001b[0malg\u001b[0m\u001b[0;34m.\u001b[0m\u001b[0mpredict_proba\u001b[0m\u001b[0;34m(\u001b[0m\u001b[0mX_train\u001b[0m\u001b[0;34m)\u001b[0m\u001b[0;34m[\u001b[0m\u001b[0;34m:\u001b[0m\u001b[0;34m,\u001b[0m\u001b[0;36m1\u001b[0m\u001b[0;34m]\u001b[0m\u001b[0;34m\u001b[0m\u001b[0m\n\u001b[1;32m      7\u001b[0m \u001b[0;34m\u001b[0m\u001b[0m\n",
      "\u001b[0;32m/Users/anantagarwal/anaconda/lib/python2.7/site-packages/sklearn/ensemble/gradient_boosting.pyc\u001b[0m in \u001b[0;36mpredict\u001b[0;34m(self, X)\u001b[0m\n\u001b[1;32m   1530\u001b[0m             \u001b[0mThe\u001b[0m \u001b[0mpredicted\u001b[0m \u001b[0mvalues\u001b[0m\u001b[0;34m.\u001b[0m\u001b[0;34m\u001b[0m\u001b[0m\n\u001b[1;32m   1531\u001b[0m         \"\"\"\n\u001b[0;32m-> 1532\u001b[0;31m         \u001b[0mscore\u001b[0m \u001b[0;34m=\u001b[0m \u001b[0mself\u001b[0m\u001b[0;34m.\u001b[0m\u001b[0mdecision_function\u001b[0m\u001b[0;34m(\u001b[0m\u001b[0mX\u001b[0m\u001b[0;34m)\u001b[0m\u001b[0;34m\u001b[0m\u001b[0m\n\u001b[0m\u001b[1;32m   1533\u001b[0m         \u001b[0mdecisions\u001b[0m \u001b[0;34m=\u001b[0m \u001b[0mself\u001b[0m\u001b[0;34m.\u001b[0m\u001b[0mloss_\u001b[0m\u001b[0;34m.\u001b[0m\u001b[0m_score_to_decision\u001b[0m\u001b[0;34m(\u001b[0m\u001b[0mscore\u001b[0m\u001b[0;34m)\u001b[0m\u001b[0;34m\u001b[0m\u001b[0m\n\u001b[1;32m   1534\u001b[0m         \u001b[0;32mreturn\u001b[0m \u001b[0mself\u001b[0m\u001b[0;34m.\u001b[0m\u001b[0mclasses_\u001b[0m\u001b[0;34m.\u001b[0m\u001b[0mtake\u001b[0m\u001b[0;34m(\u001b[0m\u001b[0mdecisions\u001b[0m\u001b[0;34m,\u001b[0m \u001b[0maxis\u001b[0m\u001b[0;34m=\u001b[0m\u001b[0;36m0\u001b[0m\u001b[0;34m)\u001b[0m\u001b[0;34m\u001b[0m\u001b[0m\n",
      "\u001b[0;32m/Users/anantagarwal/anaconda/lib/python2.7/site-packages/sklearn/ensemble/gradient_boosting.pyc\u001b[0m in \u001b[0;36mdecision_function\u001b[0;34m(self, X)\u001b[0m\n\u001b[1;32m   1485\u001b[0m         \"\"\"\n\u001b[1;32m   1486\u001b[0m         \u001b[0mX\u001b[0m \u001b[0;34m=\u001b[0m \u001b[0mcheck_array\u001b[0m\u001b[0;34m(\u001b[0m\u001b[0mX\u001b[0m\u001b[0;34m,\u001b[0m \u001b[0mdtype\u001b[0m\u001b[0;34m=\u001b[0m\u001b[0mDTYPE\u001b[0m\u001b[0;34m,\u001b[0m \u001b[0morder\u001b[0m\u001b[0;34m=\u001b[0m\u001b[0;34m\"C\"\u001b[0m\u001b[0;34m,\u001b[0m  \u001b[0maccept_sparse\u001b[0m\u001b[0;34m=\u001b[0m\u001b[0;34m'csr'\u001b[0m\u001b[0;34m)\u001b[0m\u001b[0;34m\u001b[0m\u001b[0m\n\u001b[0;32m-> 1487\u001b[0;31m         \u001b[0mscore\u001b[0m \u001b[0;34m=\u001b[0m \u001b[0mself\u001b[0m\u001b[0;34m.\u001b[0m\u001b[0m_decision_function\u001b[0m\u001b[0;34m(\u001b[0m\u001b[0mX\u001b[0m\u001b[0;34m)\u001b[0m\u001b[0;34m\u001b[0m\u001b[0m\n\u001b[0m\u001b[1;32m   1488\u001b[0m         \u001b[0;32mif\u001b[0m \u001b[0mscore\u001b[0m\u001b[0;34m.\u001b[0m\u001b[0mshape\u001b[0m\u001b[0;34m[\u001b[0m\u001b[0;36m1\u001b[0m\u001b[0;34m]\u001b[0m \u001b[0;34m==\u001b[0m \u001b[0;36m1\u001b[0m\u001b[0;34m:\u001b[0m\u001b[0;34m\u001b[0m\u001b[0m\n\u001b[1;32m   1489\u001b[0m             \u001b[0;32mreturn\u001b[0m \u001b[0mscore\u001b[0m\u001b[0;34m.\u001b[0m\u001b[0mravel\u001b[0m\u001b[0;34m(\u001b[0m\u001b[0;34m)\u001b[0m\u001b[0;34m\u001b[0m\u001b[0m\n",
      "\u001b[0;32m/Users/anantagarwal/anaconda/lib/python2.7/site-packages/sklearn/ensemble/gradient_boosting.pyc\u001b[0m in \u001b[0;36m_decision_function\u001b[0;34m(self, X)\u001b[0m\n\u001b[1;32m   1129\u001b[0m         \u001b[0;31m# not doing input validation.\u001b[0m\u001b[0;34m\u001b[0m\u001b[0;34m\u001b[0m\u001b[0m\n\u001b[1;32m   1130\u001b[0m         \u001b[0mscore\u001b[0m \u001b[0;34m=\u001b[0m \u001b[0mself\u001b[0m\u001b[0;34m.\u001b[0m\u001b[0m_init_decision_function\u001b[0m\u001b[0;34m(\u001b[0m\u001b[0mX\u001b[0m\u001b[0;34m)\u001b[0m\u001b[0;34m\u001b[0m\u001b[0m\n\u001b[0;32m-> 1131\u001b[0;31m         \u001b[0mpredict_stages\u001b[0m\u001b[0;34m(\u001b[0m\u001b[0mself\u001b[0m\u001b[0;34m.\u001b[0m\u001b[0mestimators_\u001b[0m\u001b[0;34m,\u001b[0m \u001b[0mX\u001b[0m\u001b[0;34m,\u001b[0m \u001b[0mself\u001b[0m\u001b[0;34m.\u001b[0m\u001b[0mlearning_rate\u001b[0m\u001b[0;34m,\u001b[0m \u001b[0mscore\u001b[0m\u001b[0;34m)\u001b[0m\u001b[0;34m\u001b[0m\u001b[0m\n\u001b[0m\u001b[1;32m   1132\u001b[0m         \u001b[0;32mreturn\u001b[0m \u001b[0mscore\u001b[0m\u001b[0;34m\u001b[0m\u001b[0m\n\u001b[1;32m   1133\u001b[0m \u001b[0;34m\u001b[0m\u001b[0m\n",
      "\u001b[0;31mKeyboardInterrupt\u001b[0m: "
     ]
    }
   ],
   "source": [
    "GB_model = GradientBoostingClassifier()\n",
    "model_fit_gb(GB_model, X_train, y_train)"
   ]
  },
  {
   "cell_type": "code",
   "execution_count": null,
   "metadata": {
    "collapsed": true
   },
   "outputs": [],
   "source": [
    "#Perform grid search\n",
    "param_test1 = {'n_estimators':range(20,81,10)}\n",
    "gsearch1 = GridSearchCV(estimator=GradientBoostingClassifier(learning_rate=0.05, min_samples_split=500,\n",
    "                                                             min_samples_leaf=50, max_depth=8, max_features='sqrt',\n",
    "                                                             subsample=0.8, random_state=10),\n",
    "                        param_grid = param_test1, scoring = 'roc_auc', n_jobs=4, iid=False, cv=5)\n",
    "gsearch1.fit(X_train, y_train)"
   ]
  },
  {
   "cell_type": "code",
   "execution_count": 64,
   "metadata": {},
   "outputs": [
    {
     "data": {
      "text/plain": [
       "([mean: 0.83984, std: 0.00470, params: {'n_estimators': 20},\n",
       "  mean: 0.84001, std: 0.00440, params: {'n_estimators': 30},\n",
       "  mean: 0.84043, std: 0.00423, params: {'n_estimators': 40},\n",
       "  mean: 0.84038, std: 0.00381, params: {'n_estimators': 50},\n",
       "  mean: 0.84056, std: 0.00366, params: {'n_estimators': 60},\n",
       "  mean: 0.84072, std: 0.00361, params: {'n_estimators': 70},\n",
       "  mean: 0.84064, std: 0.00324, params: {'n_estimators': 80}],\n",
       " {'n_estimators': 70},\n",
       " 0.8407173668014082)"
      ]
     },
     "execution_count": 64,
     "metadata": {},
     "output_type": "execute_result"
    }
   ],
   "source": [
    "#Checking output\n",
    "gsearch1.grid_scores_, gsearch1.best_params_, gsearch1.best_score_"
   ]
  },
  {
   "cell_type": "code",
   "execution_count": 66,
   "metadata": {},
   "outputs": [
    {
     "data": {
      "text/plain": [
       "GridSearchCV(cv=5, error_score='raise',\n",
       "       estimator=GradientBoostingClassifier(criterion='friedman_mse', init=None,\n",
       "              learning_rate=0.05, loss='deviance', max_depth=3,\n",
       "              max_features='sqrt', max_leaf_nodes=None,\n",
       "              min_impurity_decrease=0.0, min_impurity_split=None,\n",
       "              min_samples_leaf=1, min_samples_split=2,\n",
       "              min_weight_fraction_leaf=0.0, n_estimators=70,\n",
       "              presort='auto', random_state=10, subsample=0.8, verbose=0,\n",
       "              warm_start=False),\n",
       "       fit_params={}, iid=False, n_jobs=4,\n",
       "       param_grid={'min_samples_split': [200, 400, 600, 800, 1000], 'max_depth': [5, 7, 9, 11, 13, 15]},\n",
       "       pre_dispatch='2*n_jobs', refit=True, scoring='roc_auc', verbose=0)"
      ]
     },
     "execution_count": 66,
     "metadata": {},
     "output_type": "execute_result"
    }
   ],
   "source": [
    "#Perform grid search for tuning tree-specific parameters\n",
    "param_test2 = {'max_depth':range(5,16,2), 'min_samples_split':range(200,1001,200)}\n",
    "gsearch2 = GridSearchCV(estimator = GradientBoostingClassifier(learning_rate=0.05, n_estimators=70,\n",
    "                                                               max_features='sqrt', subsample=0.8, random_state=10),\n",
    "                       param_grid=param_test2, scoring='roc_auc', n_jobs=4, iid=False, cv=5)\n",
    "gsearch2.fit(X_train, y_train)"
   ]
  },
  {
   "cell_type": "code",
   "execution_count": 67,
   "metadata": {},
   "outputs": [
    {
     "data": {
      "text/plain": [
       "([mean: 0.83985, std: 0.00365, params: {'min_samples_split': 200, 'max_depth': 5},\n",
       "  mean: 0.84036, std: 0.00353, params: {'min_samples_split': 400, 'max_depth': 5},\n",
       "  mean: 0.84015, std: 0.00358, params: {'min_samples_split': 600, 'max_depth': 5},\n",
       "  mean: 0.84018, std: 0.00350, params: {'min_samples_split': 800, 'max_depth': 5},\n",
       "  mean: 0.84026, std: 0.00342, params: {'min_samples_split': 1000, 'max_depth': 5},\n",
       "  mean: 0.84062, std: 0.00314, params: {'min_samples_split': 200, 'max_depth': 7},\n",
       "  mean: 0.84086, std: 0.00317, params: {'min_samples_split': 400, 'max_depth': 7},\n",
       "  mean: 0.84102, std: 0.00339, params: {'min_samples_split': 600, 'max_depth': 7},\n",
       "  mean: 0.84116, std: 0.00354, params: {'min_samples_split': 800, 'max_depth': 7},\n",
       "  mean: 0.84089, std: 0.00321, params: {'min_samples_split': 1000, 'max_depth': 7},\n",
       "  mean: 0.83903, std: 0.00268, params: {'min_samples_split': 200, 'max_depth': 9},\n",
       "  mean: 0.84046, std: 0.00293, params: {'min_samples_split': 400, 'max_depth': 9},\n",
       "  mean: 0.84131, std: 0.00281, params: {'min_samples_split': 600, 'max_depth': 9},\n",
       "  mean: 0.84098, std: 0.00307, params: {'min_samples_split': 800, 'max_depth': 9},\n",
       "  mean: 0.84082, std: 0.00340, params: {'min_samples_split': 1000, 'max_depth': 9},\n",
       "  mean: 0.83849, std: 0.00247, params: {'min_samples_split': 200, 'max_depth': 11},\n",
       "  mean: 0.83957, std: 0.00316, params: {'min_samples_split': 400, 'max_depth': 11},\n",
       "  mean: 0.84084, std: 0.00346, params: {'min_samples_split': 600, 'max_depth': 11},\n",
       "  mean: 0.84059, std: 0.00302, params: {'min_samples_split': 800, 'max_depth': 11},\n",
       "  mean: 0.84026, std: 0.00376, params: {'min_samples_split': 1000, 'max_depth': 11},\n",
       "  mean: 0.83696, std: 0.00215, params: {'min_samples_split': 200, 'max_depth': 13},\n",
       "  mean: 0.83814, std: 0.00333, params: {'min_samples_split': 400, 'max_depth': 13},\n",
       "  mean: 0.83991, std: 0.00358, params: {'min_samples_split': 600, 'max_depth': 13},\n",
       "  mean: 0.83917, std: 0.00365, params: {'min_samples_split': 800, 'max_depth': 13},\n",
       "  mean: 0.84003, std: 0.00303, params: {'min_samples_split': 1000, 'max_depth': 13},\n",
       "  mean: 0.83467, std: 0.00384, params: {'min_samples_split': 200, 'max_depth': 15},\n",
       "  mean: 0.83808, std: 0.00311, params: {'min_samples_split': 400, 'max_depth': 15},\n",
       "  mean: 0.83897, std: 0.00309, params: {'min_samples_split': 600, 'max_depth': 15},\n",
       "  mean: 0.83847, std: 0.00391, params: {'min_samples_split': 800, 'max_depth': 15},\n",
       "  mean: 0.83971, std: 0.00383, params: {'min_samples_split': 1000, 'max_depth': 15}],\n",
       " {'max_depth': 9, 'min_samples_split': 600},\n",
       " 0.8413075645100943)"
      ]
     },
     "execution_count": 67,
     "metadata": {},
     "output_type": "execute_result"
    }
   ],
   "source": [
    "#Checking output\n",
    "gsearch2.grid_scores_, gsearch2.best_params_, gsearch2.best_score_"
   ]
  },
  {
   "cell_type": "code",
   "execution_count": 87,
   "metadata": {},
   "outputs": [
    {
     "data": {
      "text/plain": [
       "GridSearchCV(cv=5, error_score='raise',\n",
       "       estimator=GradientBoostingClassifier(criterion='friedman_mse', init=None,\n",
       "              learning_rate=0.05, loss='deviance', max_depth=9,\n",
       "              max_features='sqrt', max_leaf_nodes=None,\n",
       "              min_impurity_decrease=0.0, min_impurity_split=None,\n",
       "              min_samples_leaf=1, min_samples_split=600,\n",
       "              min_weight_fraction_leaf=0.0, n_estimators=70,\n",
       "              presort='auto', random_state=10, subsample=0.8, verbose=0,\n",
       "              warm_start=False),\n",
       "       fit_params={}, iid=False, n_jobs=4,\n",
       "       param_grid={'min_samples_leaf': [30, 40, 50, 60, 70, 80, 90, 100, 110, 120, 130, 140, 150, 160, 170, 180, 190, 200, 210, 220, 230, 240]},\n",
       "       pre_dispatch='2*n_jobs', refit=True, scoring='roc_auc', verbose=0)"
      ]
     },
     "execution_count": 87,
     "metadata": {},
     "output_type": "execute_result"
    }
   ],
   "source": [
    "#Perform grid search \n",
    "param_test3 = {'min_samples_leaf':range(30,250,10)}\n",
    "gsearch3 = GridSearchCV(estimator=GradientBoostingClassifier(learning_rate=0.05, n_estimators=70,\n",
    "                                                            max_depth=9, min_samples_split=600, max_features='sqrt', subsample=0.8,\n",
    "                                                            random_state=10),\n",
    "                       param_grid=param_test3, scoring='roc_auc',n_jobs=4,iid=False,cv=5)\n",
    "gsearch3.fit(X_train,y_train)"
   ]
  },
  {
   "cell_type": "code",
   "execution_count": 88,
   "metadata": {},
   "outputs": [
    {
     "data": {
      "text/plain": [
       "([mean: 0.84134, std: 0.00332, params: {'min_samples_leaf': 30},\n",
       "  mean: 0.84100, std: 0.00360, params: {'min_samples_leaf': 40},\n",
       "  mean: 0.84119, std: 0.00286, params: {'min_samples_leaf': 50},\n",
       "  mean: 0.84083, std: 0.00359, params: {'min_samples_leaf': 60},\n",
       "  mean: 0.84105, std: 0.00294, params: {'min_samples_leaf': 70},\n",
       "  mean: 0.84098, std: 0.00327, params: {'min_samples_leaf': 80},\n",
       "  mean: 0.84103, std: 0.00319, params: {'min_samples_leaf': 90},\n",
       "  mean: 0.84070, std: 0.00330, params: {'min_samples_leaf': 100},\n",
       "  mean: 0.84108, std: 0.00290, params: {'min_samples_leaf': 110},\n",
       "  mean: 0.84106, std: 0.00268, params: {'min_samples_leaf': 120},\n",
       "  mean: 0.84099, std: 0.00282, params: {'min_samples_leaf': 130},\n",
       "  mean: 0.84104, std: 0.00337, params: {'min_samples_leaf': 140},\n",
       "  mean: 0.84106, std: 0.00287, params: {'min_samples_leaf': 150},\n",
       "  mean: 0.84148, std: 0.00310, params: {'min_samples_leaf': 160},\n",
       "  mean: 0.84125, std: 0.00302, params: {'min_samples_leaf': 170},\n",
       "  mean: 0.84095, std: 0.00305, params: {'min_samples_leaf': 180},\n",
       "  mean: 0.84118, std: 0.00346, params: {'min_samples_leaf': 190},\n",
       "  mean: 0.84160, std: 0.00275, params: {'min_samples_leaf': 200},\n",
       "  mean: 0.84113, std: 0.00312, params: {'min_samples_leaf': 210},\n",
       "  mean: 0.84170, std: 0.00303, params: {'min_samples_leaf': 220},\n",
       "  mean: 0.84127, std: 0.00283, params: {'min_samples_leaf': 230},\n",
       "  mean: 0.84132, std: 0.00317, params: {'min_samples_leaf': 240}],\n",
       " {'min_samples_leaf': 220},\n",
       " 0.8417031780299824)"
      ]
     },
     "execution_count": 88,
     "metadata": {},
     "output_type": "execute_result"
    }
   ],
   "source": [
    "#Checking output\n",
    "gsearch3.grid_scores_, gsearch3.best_params_, gsearch3.best_score_"
   ]
  },
  {
   "cell_type": "code",
   "execution_count": 94,
   "metadata": {},
   "outputs": [
    {
     "name": "stdout",
     "output_type": "stream",
     "text": [
      "Accuracy: 0.9412\n",
      "AUC score (train): 0.865071\n",
      "CV score : Mean - 0.8417032 | Std - 0.003029672 | Min - 0.8382036 | Max - 0.8471725\n"
     ]
    },
    {
     "data": {
      "image/png": "[encoded data removed]",
      "text/plain": [
       "<Figure size 864x288 with 1 Axes>"
      ]
     },
     "metadata": {},
     "output_type": "display_data"
    }
   ],
   "source": [
    "model_fit_gb(gsearch3.best_estimator_, X_train, y_train)"
   ]
  },
  {
   "cell_type": "code",
   "execution_count": 96,
   "metadata": {},
   "outputs": [
    {
     "data": {
      "text/plain": [
       "GridSearchCV(cv=5, error_score='raise',\n",
       "       estimator=GradientBoostingClassifier(criterion='friedman_mse', init=None,\n",
       "              learning_rate=0.05, loss='deviance', max_depth=9,\n",
       "              max_features=None, max_leaf_nodes=None,\n",
       "              min_impurity_decrease=0.0, min_impurity_split=None,\n",
       "              min_samples_leaf=220, min_samples_split=600,\n",
       "              min_weight_fraction_leaf=0.0, n_estimators=70,\n",
       "              presort='auto', random_state=10, subsample=0.8, verbose=0,\n",
       "              warm_start=False),\n",
       "       fit_params={}, iid=False, n_jobs=4,\n",
       "       param_grid={'max_features': [2, 4, 6, 8, 10, 12, 14, 16]},\n",
       "       pre_dispatch='2*n_jobs', refit=True, scoring='roc_auc', verbose=0)"
      ]
     },
     "execution_count": 96,
     "metadata": {},
     "output_type": "execute_result"
    }
   ],
   "source": [
    "#Perform grid search by tuning max_features\n",
    "param_test4 = {'max_features':range(2,17,2)}\n",
    "gsearch4 = GridSearchCV(estimator=GradientBoostingClassifier(learning_rate=0.05, n_estimators=70,\n",
    "                                                            max_depth=9,min_samples_split=600,\n",
    "                                                            min_samples_leaf=220, subsample=0.8,\n",
    "                                                            random_state=10),\n",
    "                       param_grid = param_test4, scoring='roc_auc', n_jobs=4,iid=False,cv=5)\n",
    "gsearch4.fit(X_train, y_train)"
   ]
  },
  {
   "cell_type": "code",
   "execution_count": 97,
   "metadata": {},
   "outputs": [
    {
     "data": {
      "text/plain": [
       "([mean: 0.83985, std: 0.00331, params: {'max_features': 2},\n",
       "  mean: 0.84170, std: 0.00303, params: {'max_features': 4},\n",
       "  mean: 0.84088, std: 0.00386, params: {'max_features': 6},\n",
       "  mean: 0.84036, std: 0.00311, params: {'max_features': 8},\n",
       "  mean: 0.83997, std: 0.00297, params: {'max_features': 10},\n",
       "  mean: 0.84000, std: 0.00340, params: {'max_features': 12},\n",
       "  mean: 0.83961, std: 0.00307, params: {'max_features': 14},\n",
       "  mean: 0.83990, std: 0.00250, params: {'max_features': 16}],\n",
       " {'max_features': 4},\n",
       " 0.8417031780299824)"
      ]
     },
     "execution_count": 97,
     "metadata": {},
     "output_type": "execute_result"
    }
   ],
   "source": [
    "#Checking output\n",
    "gsearch4.grid_scores_, gsearch4.best_params_, gsearch4.best_score_"
   ]
  },
  {
   "cell_type": "code",
   "execution_count": 101,
   "metadata": {},
   "outputs": [
    {
     "data": {
      "text/plain": [
       "GridSearchCV(cv=5, error_score='raise',\n",
       "       estimator=GradientBoostingClassifier(criterion='friedman_mse', init=None,\n",
       "              learning_rate=0.05, loss='deviance', max_depth=9,\n",
       "              max_features='sqrt', max_leaf_nodes=None,\n",
       "              min_impurity_decrease=0.0, min_impurity_split=None,\n",
       "              min_samples_leaf=220, min_samples_split=600,\n",
       "              min_weight_fraction_leaf=0.0, n_estimators=70,\n",
       "              presort='auto', random_state=10, subsample=0.8, verbose=0,\n",
       "              warm_start=False),\n",
       "       fit_params={}, iid=False, n_jobs=4,\n",
       "       param_grid={'subsample': [0.6, 0.7, 0.75, 0.8, 0.85, 0.9]},\n",
       "       pre_dispatch='2*n_jobs', refit=True, scoring='roc_auc', verbose=0)"
      ]
     },
     "execution_count": 101,
     "metadata": {},
     "output_type": "execute_result"
    }
   ],
   "source": [
    "#Tuning subsample and making models with lower learning rate\n",
    "param_test5 = {'subsample':[0.6,0.7,0.75,0.8,0.85,0.9]}\n",
    "gsearch5 = GridSearchCV(estimator=GradientBoostingClassifier(learning_rate=0.05, n_estimators=70,\n",
    "                                                            max_depth=9, min_samples_split=600,\n",
    "                                                            min_samples_leaf=220, max_features='sqrt',\n",
    "                                                            random_state=10,subsample=0.8),\n",
    "                       param_grid=param_test5, scoring='roc_auc', n_jobs=4,iid=False,cv=5)\n",
    "gsearch5.fit(X_train, y_train)"
   ]
  },
  {
   "cell_type": "code",
   "execution_count": 102,
   "metadata": {},
   "outputs": [
    {
     "data": {
      "text/plain": [
       "([mean: 0.84107, std: 0.00366, params: {'subsample': 0.6},\n",
       "  mean: 0.84093, std: 0.00375, params: {'subsample': 0.7},\n",
       "  mean: 0.84162, std: 0.00290, params: {'subsample': 0.75},\n",
       "  mean: 0.84170, std: 0.00303, params: {'subsample': 0.8},\n",
       "  mean: 0.84134, std: 0.00292, params: {'subsample': 0.85},\n",
       "  mean: 0.84106, std: 0.00307, params: {'subsample': 0.9}],\n",
       " {'subsample': 0.8},\n",
       " 0.8417031780299824)"
      ]
     },
     "execution_count": 102,
     "metadata": {},
     "output_type": "execute_result"
    }
   ],
   "source": [
    "#Checking output\n",
    "gsearch5.grid_scores_, gsearch5.best_params_, gsearch5.best_score_"
   ]
  },
  {
   "cell_type": "code",
   "execution_count": 103,
   "metadata": {},
   "outputs": [
    {
     "name": "stdout",
     "output_type": "stream",
     "text": [
      "Accuracy: 0.9417\n",
      "AUC score (train): 0.865865\n",
      "CV score : Mean - 0.8414752 | Std - 0.003297689 | Min - 0.8374778 | Max - 0.847277\n"
     ]
    },
    {
     "data": {
      "image/png": "[encoded data removed]",
      "text/plain": [
       "<Figure size 864x288 with 1 Axes>"
      ]
     },
     "metadata": {},
     "output_type": "display_data"
    }
   ],
   "source": [
    "#Reducing learning rate and increasing esimators\n",
    "GB_model_tuned = GradientBoostingClassifier(learning_rate=0.01,n_estimators=350,max_depth=9, \n",
    "                                            min_samples_split=600,min_samples_leaf=220, \n",
    "                                            max_features='sqrt',random_state=10, subsample=0.8)\n",
    "model_fit_gb(GB_model_tuned, X_train, y_train)"
   ]
  },
  {
   "cell_type": "code",
   "execution_count": 106,
   "metadata": {},
   "outputs": [
    {
     "name": "stdout",
     "output_type": "stream",
     "text": [
      "Accuracy: 0.9416\n",
      "AUC score (train): 0.865436\n",
      "CV score : Mean - 0.8416586 | Std - 0.003372528 | Min - 0.8374895 | Max - 0.8475914\n"
     ]
    },
    {
     "data": {
      "image/png": "[encoded data removed]",
      "text/plain": [
       "<Figure size 864x288 with 1 Axes>"
      ]
     },
     "metadata": {},
     "output_type": "display_data"
    }
   ],
   "source": [
    "#Reducing learning rate and increasing esimators\n",
    "GB_model_tuned2 = GradientBoostingClassifier(learning_rate=0.005,n_estimators=700,max_depth=9, \n",
    "                                            min_samples_split=600,min_samples_leaf=220, \n",
    "                                            max_features='sqrt',random_state=10, subsample=0.8)\n",
    "model_fit_gb(GB_model_tuned2, X_train, y_train)"
   ]
  },
  {
   "cell_type": "code",
   "execution_count": 107,
   "metadata": {},
   "outputs": [
    {
     "name": "stdout",
     "output_type": "stream",
     "text": [
      "Accuracy: 0.9428\n",
      "AUC score (train): 0.876594\n"
     ]
    },
    {
     "data": {
      "image/png": "[encoded data removed]",
      "text/plain": [
       "<Figure size 864x288 with 1 Axes>"
      ]
     },
     "metadata": {},
     "output_type": "display_data"
    }
   ],
   "source": [
    "#Reducing learning rate and increasing esimators\n",
    "GB_model_tuned3 = GradientBoostingClassifier(learning_rate=0.005,n_estimators=1400,max_depth=9, \n",
    "                                            min_samples_split=600,min_samples_leaf=220, \n",
    "                                            max_features='sqrt',random_state=10, subsample=0.8)\n",
    "model_fit_gb(GB_model_tuned3, X_train, y_train, performCV=False)"
   ]
  },
  {
   "cell_type": "code",
   "execution_count": 110,
   "metadata": {},
   "outputs": [
    {
     "name": "stdout",
     "output_type": "stream",
     "text": [
      "Accuracy: 0.9397\n",
      "AUC score (train): 0.860842\n"
     ]
    },
    {
     "data": {
      "image/png": "[encoded data removed]",
      "text/plain": [
       "<Figure size 864x288 with 1 Axes>"
      ]
     },
     "metadata": {},
     "output_type": "display_data"
    }
   ],
   "source": [
    "#Reducing learning rate and increasing esimators\n",
    "GB_model_tuned4 = GradientBoostingClassifier(learning_rate=0.001,n_estimators=2000,max_depth=9, \n",
    "                                            min_samples_split=600,min_samples_leaf=220, \n",
    "                                            max_features='sqrt',random_state=10, subsample=0.8)\n",
    "model_fit_gb(GB_model_tuned4, X_train, y_train, performCV=False)"
   ]
  },
  {
   "cell_type": "code",
   "execution_count": 207,
   "metadata": {},
   "outputs": [
    {
     "name": "stdout",
     "output_type": "stream",
     "text": [
      "Accuracy: 0.9438\n",
      "AUC score (train): 0.884741\n"
     ]
    },
    {
     "data": {
      "image/png": "[encoded data removed]",
      "text/plain": [
       "<Figure size 864x288 with 1 Axes>"
      ]
     },
     "metadata": {},
     "output_type": "display_data"
    }
   ],
   "source": [
    "#Reducing learning rate and increasing esimators\n",
    "GB_model_tuned5 = GradientBoostingClassifier(learning_rate=0.001,n_estimators=10000,max_depth=9, \n",
    "                                            min_samples_split=600,min_samples_leaf=220, \n",
    "                                            max_features='sqrt',random_state=10, subsample=0.8)\n",
    "model_fit_gb(GB_model_tuned5, X_train, y_train, performCV=False)"
   ]
  },
  {
   "cell_type": "code",
   "execution_count": 24,
   "metadata": {},
   "outputs": [
    {
     "name": "stdout",
     "output_type": "stream",
     "text": [
      "Accuracy: 0.9438\n",
      "AUC score (train): 0.884777\n"
     ]
    },
    {
     "data": {
      "image/png": "[encoded data removed]",
      "text/plain": [
       "<Figure size 864x288 with 1 Axes>"
      ]
     },
     "metadata": {},
     "output_type": "display_data"
    }
   ],
   "source": [
    "#Reducing learning rate and increasing esimators\n",
    "GB_model_tuned6 = GradientBoostingClassifier(learning_rate=0.005,n_estimators=2000,max_depth=9, \n",
    "                                            min_samples_split=600,min_samples_leaf=220, \n",
    "                                            max_features='sqrt',random_state=10, subsample=0.8)\n",
    "model_fit_gb(GB_model_tuned6, X_train, y_train, performCV=False)"
   ]
  },
  {
   "cell_type": "code",
   "execution_count": 205,
   "metadata": {},
   "outputs": [
    {
     "name": "stdout",
     "output_type": "stream",
     "text": [
      "Accuracy: 0.9376\n",
      "AUC score (dev): 0.843410\n"
     ]
    }
   ],
   "source": [
    "#evaluating model on development set\n",
    "dev_predictions = GB_model_tuned3.predict(X_dev)\n",
    "dev_predprob = GB_model_tuned3.predict_proba(X_dev)[:,1]\n",
    "#evaluate predictions\n",
    "print(\"Accuracy: %.4g\" % accuracy_score(y_dev.values, dev_predictions) )\n",
    "print(\"AUC score (dev): %f\" % roc_auc_score(y_dev, dev_predprob))"
   ]
  },
  {
   "cell_type": "code",
   "execution_count": 206,
   "metadata": {},
   "outputs": [
    {
     "name": "stdout",
     "output_type": "stream",
     "text": [
      "Accuracy: 0.937\n",
      "AUC score (dev): 0.844771\n"
     ]
    }
   ],
   "source": [
    "#evaluating model on development set\n",
    "dev_predictions = GB_model_tuned4.predict(X_dev)\n",
    "dev_predprob = GB_model_tuned4.predict_proba(X_dev)[:,1]\n",
    "#evaluate predictions\n",
    "print(\"Accuracy: %.4g\" % accuracy_score(y_dev.values, dev_predictions) )\n",
    "print(\"AUC score (dev): %f\" % roc_auc_score(y_dev, dev_predprob))"
   ]
  },
  {
   "cell_type": "code",
   "execution_count": 208,
   "metadata": {},
   "outputs": [
    {
     "name": "stdout",
     "output_type": "stream",
     "text": [
      "Accuracy: 0.9378\n",
      "AUC score (dev): 0.842860\n"
     ]
    }
   ],
   "source": [
    "#evaluating model on development set\n",
    "dev_predictions = GB_model_tuned5.predict(X_dev)\n",
    "dev_predprob = GB_model_tuned5.predict_proba(X_dev)[:,1]\n",
    "#evaluate predictions\n",
    "print(\"Accuracy: %.4g\" % accuracy_score(y_dev.values, dev_predictions) )\n",
    "print(\"AUC score (dev): %f\" % roc_auc_score(y_dev, dev_predprob))"
   ]
  },
  {
   "cell_type": "code",
   "execution_count": 25,
   "metadata": {},
   "outputs": [
    {
     "name": "stdout",
     "output_type": "stream",
     "text": [
      "Accuracy: 0.9378\n",
      "AUC score (dev): 0.842246\n"
     ]
    }
   ],
   "source": [
    "#evaluating model on development set\n",
    "dev_predictions = GB_model_tuned6.predict(X_dev)\n",
    "dev_predprob = GB_model_tuned6.predict_proba(X_dev)[:,1]\n",
    "#evaluate predictions\n",
    "print(\"Accuracy: %.4g\" % accuracy_score(y_dev.values, dev_predictions) )\n",
    "print(\"AUC score (dev): %f\" % roc_auc_score(y_dev, dev_predprob))"
   ]
  },
  {
   "cell_type": "code",
   "execution_count": 101,
   "metadata": {},
   "outputs": [
    {
     "name": "stdout",
     "output_type": "stream",
     "text": [
      "Accuracy: 0.9392\n",
      "AUC score (dev): 0.867339\n"
     ]
    }
   ],
   "source": [
    "# my_mod1 = joblib.load(\"pima_6_2.joblib.dat\")\n",
    "# #evaluating model on development set\n",
    "# dev_predictions = my_mod1.predict(X_dev)\n",
    "# dev_predprob = my_mod1.predict_proba(X_dev)[:,1]\n",
    "# #evaluate predictions\n",
    "# print(\"Accuracy: %.4g\" % accuracy_score(y_dev.values, dev_predictions) )\n",
    "# print(\"AUC score (dev): %f\" % roc_auc_score(y_dev, dev_predprob))"
   ]
  },
  {
   "cell_type": "code",
   "execution_count": 100,
   "metadata": {},
   "outputs": [
    {
     "name": "stdout",
     "output_type": "stream",
     "text": [
      "Accuracy: 0.9391\n",
      "AUC score (dev): 0.867270\n"
     ]
    }
   ],
   "source": [
    "# my_mod = joblib.load(\"pima_6_3.joblib.dat\")\n",
    "# #evaluating model on development set\n",
    "# dev_predictions = my_mod.predict(X_dev)\n",
    "# dev_predprob = my_mod.predict_proba(X_dev)[:,1]\n",
    "# #evaluate predictions\n",
    "# print(\"Accuracy: %.4g\" % accuracy_score(y_dev.values, dev_predictions) )\n",
    "# print(\"AUC score (dev): %f\" % roc_auc_score(y_dev, dev_predprob))"
   ]
  },
  {
   "cell_type": "code",
   "execution_count": 103,
   "metadata": {},
   "outputs": [
    {
     "name": "stdout",
     "output_type": "stream",
     "text": [
      "GradientBoostingClassifier(criterion='friedman_mse', init=None,\n",
      "              learning_rate=0.001, loss='deviance', max_depth=9,\n",
      "              max_features='sqrt', max_leaf_nodes=None,\n",
      "              min_impurity_decrease=0.0, min_impurity_split=None,\n",
      "              min_samples_leaf=220, min_samples_split=600,\n",
      "              min_weight_fraction_leaf=0.0, n_estimators=3500,\n",
      "              presort='auto', random_state=10, subsample=0.8, verbose=0,\n",
      "              warm_start=False)\n"
     ]
    }
   ],
   "source": [
    "# print(my_mod1)"
   ]
  },
  {
   "cell_type": "code",
   "execution_count": 88,
   "metadata": {},
   "outputs": [
    {
     "name": "stdout",
     "output_type": "stream",
     "text": [
      "GradientBoostingClassifier(criterion='friedman_mse', init=None,\n",
      "              learning_rate=0.005, loss='deviance', max_depth=9,\n",
      "              max_features='sqrt', max_leaf_nodes=None,\n",
      "              min_impurity_decrease=0.0, min_impurity_split=None,\n",
      "              min_samples_leaf=220, min_samples_split=600,\n",
      "              min_weight_fraction_leaf=0.0, n_estimators=4000,\n",
      "              presort='auto', random_state=10, subsample=0.8, verbose=0,\n",
      "              warm_start=False)\n"
     ]
    }
   ],
   "source": [
    "# a = joblib.load(\"pima_6_1.joblib.dat\")\n",
    "# print(a)"
   ]
  },
  {
   "cell_type": "code",
   "execution_count": null,
   "metadata": {},
   "outputs": [],
   "source": [
    "#Perform grid search\n",
    "param_test_x = {'n_estimators':range(2000,4000,100), 'learning_rate':[0.0001, 0.0003, 0.0005, 0.001]}\n",
    "gsearch_x = GridSearchCV(estimator=GradientBoostingClassifier(min_samples_split=600,\n",
    "                                                             min_samples_leaf=220, max_depth=9, max_features='sqrt',\n",
    "                                                             subsample=0.8, random_state=10),\n",
    "                        param_grid = param_test_x, scoring = 'roc_auc', n_jobs=4, iid=False, cv=5)\n",
    "gsearch_x.fit(X_train, y_train)"
   ]
  },
  {
   "cell_type": "markdown",
   "metadata": {},
   "source": [
    "#### Saving models"
   ]
  },
  {
   "cell_type": "code",
   "execution_count": 133,
   "metadata": {},
   "outputs": [
    {
     "name": "stdout",
     "output_type": "stream",
     "text": [
      "GradientBoostingClassifier(criterion='friedman_mse', init=None,\n",
      "              learning_rate=0.001, loss='deviance', max_depth=9,\n",
      "              max_features='sqrt', max_leaf_nodes=None,\n",
      "              min_impurity_decrease=0.0, min_impurity_split=None,\n",
      "              min_samples_leaf=220, min_samples_split=600,\n",
      "              min_weight_fraction_leaf=0.0, n_estimators=2000,\n",
      "              presort='auto', random_state=10, subsample=0.8, verbose=0,\n",
      "              warm_start=False)\n"
     ]
    }
   ],
   "source": [
    "# mymod = joblib.load(\"pima4.joblib.dat\")\n",
    "# print(mymod)"
   ]
  },
  {
   "cell_type": "code",
   "execution_count": 287,
   "metadata": {},
   "outputs": [
    {
     "data": {
      "text/plain": [
       "['pima_est.joblib.dat']"
      ]
     },
     "execution_count": 287,
     "metadata": {},
     "output_type": "execute_result"
    }
   ],
   "source": [
    "# # save models to file\n",
    "# joblib.dump(GB_model, \"pima.joblib.dat\")\n",
    "# joblib.dump(GB_model_tuned, \"pima1.joblib.dat\")\n",
    "# joblib.dump(GB_model_tuned2, \"pima2.joblib.dat\")\n",
    "# joblib.dump(GB_model_tuned3, \"pima3.joblib.dat\")\n",
    "# joblib.dump(GB_model_tuned4, \"pima4.joblib.dat\")\n",
    "# joblib.dump(GB_model_tuned5, \"pima5.joblib.dat\")\n",
    "# joblib.dump(gsearch3.best_estimator_, \"pima_est.joblib.dat\")"
   ]
  },
  {
   "cell_type": "code",
   "execution_count": 28,
   "metadata": {},
   "outputs": [
    {
     "data": {
      "text/plain": [
       "['pima6.joblib.dat']"
      ]
     },
     "execution_count": 28,
     "metadata": {},
     "output_type": "execute_result"
    }
   ],
   "source": [
    "# joblib.dump(GB_model_tuned6, \"pima6.joblib.dat\")"
   ]
  },
  {
   "cell_type": "code",
   "execution_count": 293,
   "metadata": {
    "collapsed": true
   },
   "outputs": [],
   "source": [
    "#loaded_model = joblib.load(\"pima2.joblib.dat\")"
   ]
  },
  {
   "cell_type": "markdown",
   "metadata": {},
   "source": [
    "#### Train best model on all data"
   ]
  },
  {
   "cell_type": "code",
   "execution_count": 30,
   "metadata": {
    "collapsed": true
   },
   "outputs": [],
   "source": [
    "#Converting y to 1D array\n",
    "y = y.squeeze()"
   ]
  },
  {
   "cell_type": "code",
   "execution_count": 31,
   "metadata": {},
   "outputs": [
    {
     "name": "stdout",
     "output_type": "stream",
     "text": [
      "Accuracy: 0.9394\n",
      "AUC score (train): 0.860036\n"
     ]
    },
    {
     "data": {
      "image/png": "[encoded data removed]",
      "text/plain": [
       "<Figure size 864x288 with 1 Axes>"
      ]
     },
     "metadata": {},
     "output_type": "display_data"
    }
   ],
   "source": [
    "#Reducing learning rate and increasing esimators\n",
    "GB_model_tuned_final = GradientBoostingClassifier(learning_rate=0.001,n_estimators=2000,max_depth=9, \n",
    "                                            min_samples_split=600,min_samples_leaf=220, \n",
    "                                            max_features='sqrt',random_state=10, subsample=0.8)\n",
    "model_fit_gb(GB_model_tuned_final, X, y, performCV=False)"
   ]
  },
  {
   "cell_type": "code",
   "execution_count": 32,
   "metadata": {},
   "outputs": [
    {
     "data": {
      "text/plain": [
       "['pima_final.joblib.dat']"
      ]
     },
     "execution_count": 32,
     "metadata": {},
     "output_type": "execute_result"
    }
   ],
   "source": [
    "joblib.dump(GB_model_tuned_final, \"pima_final.joblib.dat\")"
   ]
  },
  {
   "cell_type": "code",
   "execution_count": 25,
   "metadata": {
    "collapsed": true
   },
   "outputs": [],
   "source": [
    "GB_model_tuned_final = joblib.load('pima_final.joblib.dat')"
   ]
  },
  {
   "cell_type": "code",
   "execution_count": 26,
   "metadata": {
    "collapsed": true
   },
   "outputs": [],
   "source": [
    "#using final model to predict on test set\n",
    "test_predictions = GB_model_tuned_final.predict(X_test)\n",
    "test_predprob = GB_model_tuned_final.predict_proba(X_test)[:,1]"
   ]
  },
  {
   "cell_type": "code",
   "execution_count": 27,
   "metadata": {},
   "outputs": [
    {
     "data": {
      "text/plain": [
       "34031"
      ]
     },
     "execution_count": 27,
     "metadata": {},
     "output_type": "execute_result"
    }
   ],
   "source": [
    "np.sum(test_predprob > 0.5)"
   ]
  },
  {
   "cell_type": "markdown",
   "metadata": {},
   "source": [
    "### Incentives plan"
   ]
  },
  {
   "cell_type": "code",
   "execution_count": 27,
   "metadata": {
    "collapsed": true
   },
   "outputs": [],
   "source": [
    "#using final model to predict probabilities on training and dev sets\n",
    "#train_predprob = GB_model_tuned_final.predict_proba(X_train)[:,1]\n",
    "#dev_predprob = GB_model_tuned_final.predict_proba(X_dev)[:,1]\n",
    "train_predprob = GB_model_tuned_final.predict_proba(X)[:,1]"
   ]
  },
  {
   "cell_type": "code",
   "execution_count": 28,
   "metadata": {
    "collapsed": true
   },
   "outputs": [],
   "source": [
    "#X_train = pd.concat([X_train, pd.DataFrame(train_predprob, columns=['prob_bench']).set_index(X_train.index.values)], axis=1)\n",
    "#X_dev = pd.concat([X_dev, pd.DataFrame(dev_predprob, columns=['prob_bench']).set_index(X_dev.index.values)], axis=1)\n",
    "X_total_train = pd.concat([X, pd.DataFrame(train_predprob, columns=['prob_bench']).set_index(X.index.values)], axis=1)\n",
    "X_test = pd.concat([X_test, pd.DataFrame(test_predprob, columns=['prob_bench']).set_index(X_test.index.values)], axis=1)"
   ]
  },
  {
   "cell_type": "code",
   "execution_count": 29,
   "metadata": {},
   "outputs": [
    {
     "data": {
      "text/html": [
       "<div>\n",
       "<style scoped>\n",
       "    .dataframe tbody tr th:only-of-type {\n",
       "        vertical-align: middle;\n",
       "    }\n",
       "\n",
       "    .dataframe tbody tr th {\n",
       "        vertical-align: top;\n",
       "    }\n",
       "\n",
       "    .dataframe thead th {\n",
       "        text-align: right;\n",
       "    }\n",
       "</style>\n",
       "<table border=\"1\" class=\"dataframe\">\n",
       "  <thead>\n",
       "    <tr style=\"text-align: right;\">\n",
       "      <th></th>\n",
       "      <th>perc_premium_paid_by_cash_credit</th>\n",
       "      <th>age_in_days</th>\n",
       "      <th>Income</th>\n",
       "      <th>Count_3-6_months_late</th>\n",
       "      <th>Count_6-12_months_late</th>\n",
       "      <th>Count_more_than_12_months_late</th>\n",
       "      <th>application_underwriting_score</th>\n",
       "      <th>no_of_premiums_paid</th>\n",
       "      <th>premium</th>\n",
       "      <th>sourcing0</th>\n",
       "      <th>sourcing1</th>\n",
       "      <th>sourcing2</th>\n",
       "      <th>sourcing3</th>\n",
       "      <th>sourcing4</th>\n",
       "      <th>res0</th>\n",
       "      <th>res1</th>\n",
       "      <th>prob_bench</th>\n",
       "    </tr>\n",
       "    <tr>\n",
       "      <th>id</th>\n",
       "      <th></th>\n",
       "      <th></th>\n",
       "      <th></th>\n",
       "      <th></th>\n",
       "      <th></th>\n",
       "      <th></th>\n",
       "      <th></th>\n",
       "      <th></th>\n",
       "      <th></th>\n",
       "      <th></th>\n",
       "      <th></th>\n",
       "      <th></th>\n",
       "      <th></th>\n",
       "      <th></th>\n",
       "      <th></th>\n",
       "      <th></th>\n",
       "      <th></th>\n",
       "    </tr>\n",
       "  </thead>\n",
       "  <tbody>\n",
       "    <tr>\n",
       "      <th>110936.0</th>\n",
       "      <td>0.429</td>\n",
       "      <td>12058.0</td>\n",
       "      <td>355060.0</td>\n",
       "      <td>0.0</td>\n",
       "      <td>0.0</td>\n",
       "      <td>0.0</td>\n",
       "      <td>99.02</td>\n",
       "      <td>13.0</td>\n",
       "      <td>3300.0</td>\n",
       "      <td>0.0</td>\n",
       "      <td>0.0</td>\n",
       "      <td>1.0</td>\n",
       "      <td>0.0</td>\n",
       "      <td>0.0</td>\n",
       "      <td>0.0</td>\n",
       "      <td>1.0</td>\n",
       "      <td>0.959793</td>\n",
       "    </tr>\n",
       "    <tr>\n",
       "      <th>41492.0</th>\n",
       "      <td>0.010</td>\n",
       "      <td>21546.0</td>\n",
       "      <td>315150.0</td>\n",
       "      <td>0.0</td>\n",
       "      <td>0.0</td>\n",
       "      <td>0.0</td>\n",
       "      <td>99.89</td>\n",
       "      <td>21.0</td>\n",
       "      <td>18000.0</td>\n",
       "      <td>1.0</td>\n",
       "      <td>0.0</td>\n",
       "      <td>0.0</td>\n",
       "      <td>0.0</td>\n",
       "      <td>0.0</td>\n",
       "      <td>0.0</td>\n",
       "      <td>1.0</td>\n",
       "      <td>0.981228</td>\n",
       "    </tr>\n",
       "    <tr>\n",
       "      <th>31300.0</th>\n",
       "      <td>0.917</td>\n",
       "      <td>17531.0</td>\n",
       "      <td>84140.0</td>\n",
       "      <td>2.0</td>\n",
       "      <td>3.0</td>\n",
       "      <td>1.0</td>\n",
       "      <td>98.69</td>\n",
       "      <td>7.0</td>\n",
       "      <td>3300.0</td>\n",
       "      <td>0.0</td>\n",
       "      <td>0.0</td>\n",
       "      <td>1.0</td>\n",
       "      <td>0.0</td>\n",
       "      <td>0.0</td>\n",
       "      <td>1.0</td>\n",
       "      <td>0.0</td>\n",
       "      <td>0.416286</td>\n",
       "    </tr>\n",
       "    <tr>\n",
       "      <th>19415.0</th>\n",
       "      <td>0.049</td>\n",
       "      <td>15341.0</td>\n",
       "      <td>250510.0</td>\n",
       "      <td>0.0</td>\n",
       "      <td>0.0</td>\n",
       "      <td>0.0</td>\n",
       "      <td>99.57</td>\n",
       "      <td>9.0</td>\n",
       "      <td>9600.0</td>\n",
       "      <td>1.0</td>\n",
       "      <td>0.0</td>\n",
       "      <td>0.0</td>\n",
       "      <td>0.0</td>\n",
       "      <td>0.0</td>\n",
       "      <td>0.0</td>\n",
       "      <td>1.0</td>\n",
       "      <td>0.981583</td>\n",
       "    </tr>\n",
       "    <tr>\n",
       "      <th>99379.0</th>\n",
       "      <td>0.052</td>\n",
       "      <td>31400.0</td>\n",
       "      <td>198680.0</td>\n",
       "      <td>0.0</td>\n",
       "      <td>0.0</td>\n",
       "      <td>0.0</td>\n",
       "      <td>99.87</td>\n",
       "      <td>12.0</td>\n",
       "      <td>9600.0</td>\n",
       "      <td>0.0</td>\n",
       "      <td>1.0</td>\n",
       "      <td>0.0</td>\n",
       "      <td>0.0</td>\n",
       "      <td>0.0</td>\n",
       "      <td>0.0</td>\n",
       "      <td>1.0</td>\n",
       "      <td>0.982565</td>\n",
       "    </tr>\n",
       "  </tbody>\n",
       "</table>\n",
       "</div>"
      ],
      "text/plain": [
       "          perc_premium_paid_by_cash_credit  age_in_days    Income  \\\n",
       "id                                                                  \n",
       "110936.0                             0.429      12058.0  355060.0   \n",
       "41492.0                              0.010      21546.0  315150.0   \n",
       "31300.0                              0.917      17531.0   84140.0   \n",
       "19415.0                              0.049      15341.0  250510.0   \n",
       "99379.0                              0.052      31400.0  198680.0   \n",
       "\n",
       "          Count_3-6_months_late  Count_6-12_months_late  \\\n",
       "id                                                        \n",
       "110936.0                    0.0                     0.0   \n",
       "41492.0                     0.0                     0.0   \n",
       "31300.0                     2.0                     3.0   \n",
       "19415.0                     0.0                     0.0   \n",
       "99379.0                     0.0                     0.0   \n",
       "\n",
       "          Count_more_than_12_months_late  application_underwriting_score  \\\n",
       "id                                                                         \n",
       "110936.0                             0.0                           99.02   \n",
       "41492.0                              0.0                           99.89   \n",
       "31300.0                              1.0                           98.69   \n",
       "19415.0                              0.0                           99.57   \n",
       "99379.0                              0.0                           99.87   \n",
       "\n",
       "          no_of_premiums_paid  premium  sourcing0  sourcing1  sourcing2  \\\n",
       "id                                                                        \n",
       "110936.0                 13.0   3300.0        0.0        0.0        1.0   \n",
       "41492.0                  21.0  18000.0        1.0        0.0        0.0   \n",
       "31300.0                   7.0   3300.0        0.0        0.0        1.0   \n",
       "19415.0                   9.0   9600.0        1.0        0.0        0.0   \n",
       "99379.0                  12.0   9600.0        0.0        1.0        0.0   \n",
       "\n",
       "          sourcing3  sourcing4  res0  res1  prob_bench  \n",
       "id                                                      \n",
       "110936.0        0.0        0.0   0.0   1.0    0.959793  \n",
       "41492.0         0.0        0.0   0.0   1.0    0.981228  \n",
       "31300.0         0.0        0.0   1.0   0.0    0.416286  \n",
       "19415.0         0.0        0.0   0.0   1.0    0.981583  \n",
       "99379.0         0.0        0.0   0.0   1.0    0.982565  "
      ]
     },
     "metadata": {},
     "output_type": "display_data"
    },
    {
     "data": {
      "text/html": [
       "<div>\n",
       "<style scoped>\n",
       "    .dataframe tbody tr th:only-of-type {\n",
       "        vertical-align: middle;\n",
       "    }\n",
       "\n",
       "    .dataframe tbody tr th {\n",
       "        vertical-align: top;\n",
       "    }\n",
       "\n",
       "    .dataframe thead th {\n",
       "        text-align: right;\n",
       "    }\n",
       "</style>\n",
       "<table border=\"1\" class=\"dataframe\">\n",
       "  <thead>\n",
       "    <tr style=\"text-align: right;\">\n",
       "      <th></th>\n",
       "      <th>perc_premium_paid_by_cash_credit</th>\n",
       "      <th>age_in_days</th>\n",
       "      <th>Income</th>\n",
       "      <th>Count_3-6_months_late</th>\n",
       "      <th>Count_6-12_months_late</th>\n",
       "      <th>Count_more_than_12_months_late</th>\n",
       "      <th>application_underwriting_score</th>\n",
       "      <th>no_of_premiums_paid</th>\n",
       "      <th>premium</th>\n",
       "      <th>sourcing0</th>\n",
       "      <th>sourcing1</th>\n",
       "      <th>sourcing2</th>\n",
       "      <th>sourcing3</th>\n",
       "      <th>sourcing4</th>\n",
       "      <th>res0</th>\n",
       "      <th>res1</th>\n",
       "      <th>prob_bench</th>\n",
       "    </tr>\n",
       "    <tr>\n",
       "      <th>id</th>\n",
       "      <th></th>\n",
       "      <th></th>\n",
       "      <th></th>\n",
       "      <th></th>\n",
       "      <th></th>\n",
       "      <th></th>\n",
       "      <th></th>\n",
       "      <th></th>\n",
       "      <th></th>\n",
       "      <th></th>\n",
       "      <th></th>\n",
       "      <th></th>\n",
       "      <th></th>\n",
       "      <th></th>\n",
       "      <th></th>\n",
       "      <th></th>\n",
       "      <th></th>\n",
       "    </tr>\n",
       "  </thead>\n",
       "  <tbody>\n",
       "    <tr>\n",
       "      <th>649.0</th>\n",
       "      <td>0.001</td>\n",
       "      <td>27384.0</td>\n",
       "      <td>51150.0</td>\n",
       "      <td>0.0</td>\n",
       "      <td>0.0</td>\n",
       "      <td>0.0</td>\n",
       "      <td>99.890000</td>\n",
       "      <td>7.0</td>\n",
       "      <td>3300.0</td>\n",
       "      <td>1.0</td>\n",
       "      <td>0.0</td>\n",
       "      <td>0.0</td>\n",
       "      <td>0.0</td>\n",
       "      <td>0.0</td>\n",
       "      <td>1.0</td>\n",
       "      <td>0.0</td>\n",
       "      <td>0.983617</td>\n",
       "    </tr>\n",
       "    <tr>\n",
       "      <th>81136.0</th>\n",
       "      <td>0.124</td>\n",
       "      <td>23735.0</td>\n",
       "      <td>285140.0</td>\n",
       "      <td>0.0</td>\n",
       "      <td>0.0</td>\n",
       "      <td>0.0</td>\n",
       "      <td>98.930000</td>\n",
       "      <td>19.0</td>\n",
       "      <td>11700.0</td>\n",
       "      <td>1.0</td>\n",
       "      <td>0.0</td>\n",
       "      <td>0.0</td>\n",
       "      <td>0.0</td>\n",
       "      <td>0.0</td>\n",
       "      <td>0.0</td>\n",
       "      <td>1.0</td>\n",
       "      <td>0.976303</td>\n",
       "    </tr>\n",
       "    <tr>\n",
       "      <th>70762.0</th>\n",
       "      <td>1.000</td>\n",
       "      <td>17170.0</td>\n",
       "      <td>186030.0</td>\n",
       "      <td>0.0</td>\n",
       "      <td>0.0</td>\n",
       "      <td>0.0</td>\n",
       "      <td>99.067291</td>\n",
       "      <td>2.0</td>\n",
       "      <td>11700.0</td>\n",
       "      <td>0.0</td>\n",
       "      <td>1.0</td>\n",
       "      <td>0.0</td>\n",
       "      <td>0.0</td>\n",
       "      <td>0.0</td>\n",
       "      <td>0.0</td>\n",
       "      <td>1.0</td>\n",
       "      <td>0.823672</td>\n",
       "    </tr>\n",
       "    <tr>\n",
       "      <th>53935.0</th>\n",
       "      <td>0.198</td>\n",
       "      <td>16068.0</td>\n",
       "      <td>123540.0</td>\n",
       "      <td>0.0</td>\n",
       "      <td>0.0</td>\n",
       "      <td>0.0</td>\n",
       "      <td>99.000000</td>\n",
       "      <td>11.0</td>\n",
       "      <td>5400.0</td>\n",
       "      <td>0.0</td>\n",
       "      <td>1.0</td>\n",
       "      <td>0.0</td>\n",
       "      <td>0.0</td>\n",
       "      <td>0.0</td>\n",
       "      <td>1.0</td>\n",
       "      <td>0.0</td>\n",
       "      <td>0.972249</td>\n",
       "    </tr>\n",
       "    <tr>\n",
       "      <th>15476.0</th>\n",
       "      <td>0.041</td>\n",
       "      <td>10591.0</td>\n",
       "      <td>200020.0</td>\n",
       "      <td>1.0</td>\n",
       "      <td>0.0</td>\n",
       "      <td>0.0</td>\n",
       "      <td>99.170000</td>\n",
       "      <td>14.0</td>\n",
       "      <td>9600.0</td>\n",
       "      <td>1.0</td>\n",
       "      <td>0.0</td>\n",
       "      <td>0.0</td>\n",
       "      <td>0.0</td>\n",
       "      <td>0.0</td>\n",
       "      <td>1.0</td>\n",
       "      <td>0.0</td>\n",
       "      <td>0.954995</td>\n",
       "    </tr>\n",
       "  </tbody>\n",
       "</table>\n",
       "</div>"
      ],
      "text/plain": [
       "         perc_premium_paid_by_cash_credit  age_in_days    Income  \\\n",
       "id                                                                 \n",
       "649.0                               0.001      27384.0   51150.0   \n",
       "81136.0                             0.124      23735.0  285140.0   \n",
       "70762.0                             1.000      17170.0  186030.0   \n",
       "53935.0                             0.198      16068.0  123540.0   \n",
       "15476.0                             0.041      10591.0  200020.0   \n",
       "\n",
       "         Count_3-6_months_late  Count_6-12_months_late  \\\n",
       "id                                                       \n",
       "649.0                      0.0                     0.0   \n",
       "81136.0                    0.0                     0.0   \n",
       "70762.0                    0.0                     0.0   \n",
       "53935.0                    0.0                     0.0   \n",
       "15476.0                    1.0                     0.0   \n",
       "\n",
       "         Count_more_than_12_months_late  application_underwriting_score  \\\n",
       "id                                                                        \n",
       "649.0                               0.0                       99.890000   \n",
       "81136.0                             0.0                       98.930000   \n",
       "70762.0                             0.0                       99.067291   \n",
       "53935.0                             0.0                       99.000000   \n",
       "15476.0                             0.0                       99.170000   \n",
       "\n",
       "         no_of_premiums_paid  premium  sourcing0  sourcing1  sourcing2  \\\n",
       "id                                                                       \n",
       "649.0                    7.0   3300.0        1.0        0.0        0.0   \n",
       "81136.0                 19.0  11700.0        1.0        0.0        0.0   \n",
       "70762.0                  2.0  11700.0        0.0        1.0        0.0   \n",
       "53935.0                 11.0   5400.0        0.0        1.0        0.0   \n",
       "15476.0                 14.0   9600.0        1.0        0.0        0.0   \n",
       "\n",
       "         sourcing3  sourcing4  res0  res1  prob_bench  \n",
       "id                                                     \n",
       "649.0          0.0        0.0   1.0   0.0    0.983617  \n",
       "81136.0        0.0        0.0   0.0   1.0    0.976303  \n",
       "70762.0        0.0        0.0   0.0   1.0    0.823672  \n",
       "53935.0        0.0        0.0   1.0   0.0    0.972249  \n",
       "15476.0        0.0        0.0   1.0   0.0    0.954995  "
      ]
     },
     "metadata": {},
     "output_type": "display_data"
    }
   ],
   "source": [
    "display(X_total_train.head(), X_test.head())"
   ]
  },
  {
   "cell_type": "code",
   "execution_count": 30,
   "metadata": {
    "collapsed": true
   },
   "outputs": [],
   "source": [
    "# def net_total_rev(e):\n",
    "#     df = X_total_train.iloc[:5,:]\n",
    "#     p1, p2, p3, p4, p5 = df.prob_bench\n",
    "#     pr1, pr2, pr3, pr4, pr5 = df.premium\n",
    "#     e1, e2, e3, e4, e5 = e[:5]\n",
    "#     def net_rev(p, pr, e):\n",
    "#         return(p*pr*0.04*math.exp(-e/5) - 400/(10-e))\n",
    "#     r1 = net_rev(p1, pr1, e1)\n",
    "#     r2 = net_rev(p2, pr2, e2)\n",
    "#     r3 = net_rev(p3, pr3, e3)\n",
    "#     r4 = net_rev(p4, pr4, e4)\n",
    "#     r5 = net_rev(p5, pr5, e5)\n",
    "#     return(r1,r2,r3,r4,r5)"
   ]
  },
  {
   "cell_type": "code",
   "execution_count": 157,
   "metadata": {
    "collapsed": true
   },
   "outputs": [],
   "source": [
    "def net_total_rev(e):\n",
    "    df = X_total_train\n",
    "    p = df.prob_bench\n",
    "    pr = df.premium\n",
    "    r = []\n",
    "    def net_rev(p, pr, e):\n",
    "        return(p*pr*0.04*math.exp(-e/5) - 400/(10-e))\n",
    "    for i in range(len(df)):\n",
    "        r.append(net_rev(p.iloc[i], pr.iloc[i], e[i]))\n",
    "    return(r)\n",
    "\n",
    "guess = 5\n",
    "x0 = np.array([guess]*X_total_train.shape[0])\n",
    "sol = root(net_total_rev, x0, method = 'lm')\n",
    "#print('effort=5 :', sol.x, sol.success, sol.nfev, np.sum(net_total_rev(sol.x)))\n",
    "incent = -400*np.log(1-sol.x/10)\n",
    "incent[incent<0] = 0"
   ]
  },
  {
   "cell_type": "code",
   "execution_count": 32,
   "metadata": {},
   "outputs": [
    {
     "data": {
      "text/plain": [
       "[2.0]"
      ]
     },
     "execution_count": 32,
     "metadata": {},
     "output_type": "execute_result"
    }
   ],
   "source": [
    "list(np.append([],2))"
   ]
  },
  {
   "cell_type": "code",
   "execution_count": 41,
   "metadata": {},
   "outputs": [
    {
     "data": {
      "text/plain": [
       "(34224, 17)"
      ]
     },
     "execution_count": 41,
     "metadata": {},
     "output_type": "execute_result"
    }
   ],
   "source": [
    "X_test.shape"
   ]
  },
  {
   "cell_type": "code",
   "execution_count": null,
   "metadata": {},
   "outputs": [],
   "source": [
    "def net_total_rev_test(e, i):\n",
    "    df = X_test.iloc[i:i+4,:]\n",
    "    p = df.prob_bench\n",
    "    pr = df.premium\n",
    "    r = np.array([])\n",
    "    def net_rev(p, pr, e):\n",
    "        return(p*pr*0.04*math.exp(-e/5) - 400/(10-e))\n",
    "    for i in range(len(df)):\n",
    "        r = np.append(r,net_rev(p.iloc[i], pr.iloc[i], e[i]))\n",
    "    return(r)"
   ]
  },
  {
   "cell_type": "code",
   "execution_count": 53,
   "metadata": {},
   "outputs": [],
   "source": [
    "incent_test = np.array([])\n",
    "for i in range(0,X_test.shape[0], 4):\n",
    "    guess = 5\n",
    "    x0_test = np.array([guess]*4)\n",
    "    sol_test = root(net_total_rev_test, x0_test, args=i, method = 'lm')\n",
    "#print('effort=5 :', sol_test.x, sol_test.success, sol_test.nfev, np.sum(net_total_rev_test(sol_test.x)))\n",
    "    incent_test_out = -400*np.log(1-sol_test.x/10)\n",
    "    incent_test_out[incent_test_out<0] = 0\n",
    "    incent_test = np.append(incent_test, incent_test_out)\n",
    "\n",
    "incent_df = pd.DataFrame(incent_test, index=X_test.index, columns=['incentive'])\n",
    "X_test = pd.concat([X_test, incent_df], axis=1)"
   ]
  },
  {
   "cell_type": "code",
   "execution_count": 59,
   "metadata": {
    "collapsed": true
   },
   "outputs": [],
   "source": [
    "output = pd.DataFrame({'id':X_test.index.astype('int32'), 'renewal':np.array(X_test.prob_bench), 'incentives':np.array(X_test.incentive)})\n",
    "output.reindex(columns=['id','renewal','incentives']).set_index('id').to_csv('GBM.csv', sep=\",\")"
   ]
  },
  {
   "cell_type": "code",
   "execution_count": 31,
   "metadata": {
    "collapsed": true
   },
   "outputs": [],
   "source": [
    "# X_total_train['delta_p'] = 100*(1/X_total_train['prob_bench'] - 1)\n",
    "# X_total_train['delta_p_upper'] = 20*(1-math.exp(-2))\n",
    "\n",
    "# X_test['delta_p'] = 100*(1/X_test['prob_bench'] - 1)\n",
    "# X_test['delta_p_upper'] = 20*(1-math.exp(-2))\n",
    "\n",
    "# X_total_train['del_p_cons'] = X_total_train[['delta_p', 'delta_p_upper']].min(axis=1)\n",
    "# X_test['del_p_cons'] = X_test[['delta_p', 'delta_p_upper']].min(axis=1)\n",
    "\n",
    "# display(X_total_train.head(n=2), X_test.head(n=2))\n",
    "\n",
    "# popped_delta_p_train = X_total_train.pop('delta_p')\n",
    "# popped_delta_p_upper_train = X_total_train.pop('delta_p_upper')\n",
    "# popped_delta_p_test = X_test.pop('delta_p')\n",
    "# popped_delta_p_upper_test = X_test.pop('delta_p_upper')\n",
    "\n",
    "# display(X_total_train.head(n=2), X_test.head(n=2))"
   ]
  },
  {
   "cell_type": "code",
   "execution_count": null,
   "metadata": {},
   "outputs": [],
   "source": [
    "# def objective(x, sign=-1.0, df = X_total_train):\n",
    "#     x1 = x[0]\n",
    "#     x2 = x[1]\n",
    "#     return sign*(df['prob_bench']*df['premium']*(1+x1/100) + 400*np.log(1-x2/10))\n",
    "\n",
    "# def constraint1(x, sign=-1.0, df = X_total_train):\n",
    "#     return -100*(1/df['prob_bench'] - 1) + x[0]\n",
    "\n",
    "# x0 = [[0,0] for i in range(X_total_train.shape[0])]\n",
    "# #b1=(np.zeros([X_total_train.shape[0]]),np.ones([X_total_train.shape[0]])*20*(1-math.exp(-2)))\n",
    "# #b2=(np.zeros([X_total_train.shape[0]]),np.ones([X_total_train.shape[0]])*10)\n",
    "# #bnds = (b1,b2)\n",
    "\n",
    "# bnds = [((0,20*(1-math.exp(-2))), (0,10))]*X_total_train.shape[0]\n",
    "# con1 = {'type': 'ineq', 'fun': constraint1}\n",
    "\n",
    "# cons = [con1]\n",
    "# sol = minimize(objective,x0,method='SLSQP',bounds=bnds,constraints=cons)\n",
    "\n",
    "# print(sol)"
   ]
  },
  {
   "cell_type": "markdown",
   "metadata": {},
   "source": [
    "#### Implement logistic regression"
   ]
  },
  {
   "cell_type": "code",
   "execution_count": 26,
   "metadata": {
    "collapsed": true
   },
   "outputs": [],
   "source": [
    "#set parameters\n",
    "num_epochs = 10000\n",
    "minibatch_size = 64\n",
    "seed = 3\n",
    "costs = []\n",
    "learning_rate = 0.001"
   ]
  },
  {
   "cell_type": "code",
   "execution_count": 27,
   "metadata": {
    "collapsed": true
   },
   "outputs": [],
   "source": [
    "def random_mini_batches(X, Y, mini_batch_size = 64, seed = 0):\n",
    "    \"\"\"\n",
    "    Creates a list of random minibatches from (X, Y)\n",
    "    \n",
    "    Arguments:\n",
    "    X -- input data, of shape (input size, number of examples) (m, Hi, Wi, Ci)\n",
    "    Y -- true \"label\" vector (containing 0 if cat, 1 if non-cat), of shape (1, number of examples) (m, n_y)\n",
    "    mini_batch_size - size of the mini-batches, integer\n",
    "    seed -- this is only for the purpose of grading, so that you're \"random minibatches are the same as ours.\n",
    "    \n",
    "    Returns:\n",
    "    mini_batches -- list of synchronous (mini_batch_X, mini_batch_Y)\n",
    "    \"\"\"\n",
    "    \n",
    "    m = X.shape[0]                  # number of training examples\n",
    "    mini_batches = []\n",
    "    np.random.seed(seed)\n",
    "    \n",
    "    # Step 1: Shuffle (X, Y)\n",
    "    permutation = list(np.random.permutation(m))\n",
    "    shuffled_X = X.iloc[permutation,:]\n",
    "    shuffled_Y = Y.iloc[permutation]\n",
    "\n",
    "    # Step 2: Partition (shuffled_X, shuffled_Y). Minus the end case.\n",
    "    num_complete_minibatches = int(math.floor(m/mini_batch_size)) # number of mini batches of size mini_batch_size in your partitionning\n",
    "    for k in range(0, num_complete_minibatches):\n",
    "        mini_batch_X = shuffled_X.iloc[k * mini_batch_size : k * mini_batch_size + mini_batch_size,:]\n",
    "        mini_batch_Y = shuffled_Y.iloc[k * mini_batch_size : k * mini_batch_size + mini_batch_size]\n",
    "        mini_batch = (mini_batch_X, mini_batch_Y)\n",
    "        mini_batches.append(mini_batch)\n",
    "    \n",
    "    # Handling the end case (last mini-batch < mini_batch_size)\n",
    "    if m % mini_batch_size != 0:\n",
    "        mini_batch_X = shuffled_X.iloc[num_complete_minibatches * mini_batch_size : m,:]\n",
    "        mini_batch_Y = shuffled_Y.iloc[num_complete_minibatches * mini_batch_size : m]\n",
    "        mini_batch = (mini_batch_X, mini_batch_Y)\n",
    "        mini_batches.append(mini_batch)\n",
    "    \n",
    "    return mini_batches"
   ]
  },
  {
   "cell_type": "code",
   "execution_count": 28,
   "metadata": {
    "collapsed": true
   },
   "outputs": [],
   "source": [
    "y_train, y_dev = pd.DataFrame(y_train), pd.DataFrame(y_dev)"
   ]
  },
  {
   "cell_type": "code",
   "execution_count": null,
   "metadata": {
    "collapsed": true
   },
   "outputs": [],
   "source": [
    "#tf Graph Input\n",
    "X = tf.placeholder(tf.float32, shape=([None, X_train.shape[1]]), name = 'X')\n",
    "Y = tf.placeholder(tf.float32, shape=[None,1], name = 'y')\n",
    "\n",
    "#set model weights\n",
    "#W = tf.Variable(tf.zeros([X_train.shape[1], 1]))\n",
    "W = tf.get_variable(\"W\", shape=[X_train.shape[1], 1], initializer = tf.random_normal_initializer())\n",
    "b = tf.Variable(tf.zeros([1]))\n",
    "\n",
    "#Construct model and minimize error using cross-entropy\n",
    "Z = tf.matmul(X, W)+b\n",
    "cost = tf.reduce_mean(tf.squared_difference(Y,Z))\n",
    "\n",
    "#Backpropagation - optimizer\n",
    "optimizer = tf.train.AdamOptimizer(beta1=0.9, beta2=0.999,epsilon=1e-08, learning_rate=learning_rate).minimize(cost)\n",
    "\n",
    "#AUC score\n",
    "p = tf.cast(tf.argmax(Z,1), tf.float32)\n",
    "q = tf.cast(tf.argmax(Y,1), tf.float32)\n",
    "auc = tf.contrib.metrics.streaming_auc(q,p)"
   ]
  },
  {
   "cell_type": "code",
   "execution_count": 269,
   "metadata": {
    "collapsed": true
   },
   "outputs": [],
   "source": [
    "tf.reset_default_graph()\n",
    "\n",
    "#Initialize all variables globally\n",
    "init = tf.global_variables_initializer()\n",
    "\n",
    "#Start session to compute the tensorflow graph\n",
    "with tf.Session() as sess:\n",
    "    #Run the initialization\n",
    "    sess.run(init)\n",
    "    #sess.run(tf.initialize_all_variables())\n",
    "    sess.run(tf.initialize_local_variables())\n",
    "    #Do the training loop\n",
    "    for epoch in range(num_epochs):\n",
    "        \n",
    "        minibatch_cost = 0.\n",
    "        num_minibatches = int(X_train.shape[0] / minibatch_size)\n",
    "        seed = seed + 1\n",
    "        minibatches = random_mini_batches(X_train, y_train, minibatch_size, seed)\n",
    "        \n",
    "        for minibatch in minibatches:\n",
    "            (minibatch_X, minibatch_Y) = minibatch\n",
    "            _, temp_cost = sess.run([optimizer, cost], feed_dict={X:minibatch_X, Y:minibatch_Y})\n",
    "            \n",
    "            minibatch_cost += temp_cost / num_minibatches\n",
    "        \n",
    "        #Print the cost every epoch\n",
    "        if epoch %100 == 0:\n",
    "            print('Cost after epoch %i: %f' % (epoch, minibatch_cost))\n",
    "        if epoch%1 == 0:\n",
    "            costs.append(minibatch_cost)\n",
    "    \n",
    "    #plot the cost\n",
    "    plt.plot(np.squeeze(costs))\n",
    "    plt.ylabel('cost')\n",
    "    plt.xlabel('iterations (per tens)')\n",
    "    plt.title('Learning rate = ' + str(learning_rate))\n",
    "    plt.show()\n",
    "    \n",
    "    #Calculate the correct predictions\n",
    "    predict_op = tf.argmax(Z,1)\n",
    "    correct_prediction = tf.equal(predict_op, tf.argmax(Y,1))\n",
    "    \n",
    "    #Calculate accuracy on dev set\n",
    "    accuracy = tf.reduce_mean(tf.cast(correct_prediction, 'float'))\n",
    "    print(accuracy)\n",
    "    train_accuracy = accuracy.eval({X:X_train, Y:y_train})\n",
    "    dev_accuracy = accuracy.eval({X:X_dev, Y:y_dev})\n",
    "    print(\"Train accuracy:\", train_accuracy)\n",
    "    print(\"Dev set accuracy:\", dev_accuracy)\n",
    "    \n",
    "    #Print AUC scores\n",
    "    train_auc = sess.run(auc, feed_dict={X:X_train, Y:y_train})\n",
    "    dev_auc = sess.run(auc, feed_dict={X:X_dev, Y:y_dev})\n",
    "    print(\"AUC score (train):\", train_auc)\n",
    "    print(\"AUC score (dev):\", dev_auc)"
   ]
  },
  {
   "cell_type": "code",
   "execution_count": null,
   "metadata": {
    "collapsed": true
   },
   "outputs": [],
   "source": []
  }
 ],
 "metadata": {
  "kernelspec": {
   "display_name": "Python 3",
   "language": "python",
   "name": "python3"
  },
  "language_info": {
   "codemirror_mode": {
    "name": "ipython",
    "version": 3
   },
   "file_extension": ".py",
   "mimetype": "text/x-python",
   "name": "python",
   "nbconvert_exporter": "python",
   "pygments_lexer": "ipython3",
   "version": "3.6.5"
  }
 },
 "nbformat": 4,
 "nbformat_minor": 2
}
